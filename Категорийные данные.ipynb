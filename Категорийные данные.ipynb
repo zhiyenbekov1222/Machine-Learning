{
 "cells": [
  {
   "cell_type": "markdown",
   "metadata": {},
   "source": [
    "### Категорийные данные [Домашнее задание]"
   ]
  },
  {
   "cell_type": "markdown",
   "metadata": {},
   "source": [
    "**Примечание:**\n",
    "\n",
    "> Пожалуйста, не удаляйте комментарии или строки кода."
   ]
  },
  {
   "cell_type": "markdown",
   "metadata": {},
   "source": [
    "1. Пожалуйста, импортируйте необходимые библиотеки, и загрузите набор данных ```\"titanic\"``` из библиотеки ```seaborn```."
   ]
  },
  {
   "cell_type": "code",
   "execution_count": 4,
   "metadata": {},
   "outputs": [
    {
     "data": {
      "text/html": [
       "<div>\n",
       "<style scoped>\n",
       "    .dataframe tbody tr th:only-of-type {\n",
       "        vertical-align: middle;\n",
       "    }\n",
       "\n",
       "    .dataframe tbody tr th {\n",
       "        vertical-align: top;\n",
       "    }\n",
       "\n",
       "    .dataframe thead th {\n",
       "        text-align: right;\n",
       "    }\n",
       "</style>\n",
       "<table border=\"1\" class=\"dataframe\">\n",
       "  <thead>\n",
       "    <tr style=\"text-align: right;\">\n",
       "      <th></th>\n",
       "      <th>survived</th>\n",
       "      <th>pclass</th>\n",
       "      <th>sex</th>\n",
       "      <th>age</th>\n",
       "      <th>sibsp</th>\n",
       "      <th>parch</th>\n",
       "      <th>fare</th>\n",
       "      <th>embarked</th>\n",
       "      <th>class</th>\n",
       "      <th>who</th>\n",
       "      <th>adult_male</th>\n",
       "      <th>deck</th>\n",
       "      <th>embark_town</th>\n",
       "      <th>alive</th>\n",
       "      <th>alone</th>\n",
       "    </tr>\n",
       "  </thead>\n",
       "  <tbody>\n",
       "    <tr>\n",
       "      <td>0</td>\n",
       "      <td>0</td>\n",
       "      <td>3</td>\n",
       "      <td>male</td>\n",
       "      <td>22.0</td>\n",
       "      <td>1</td>\n",
       "      <td>0</td>\n",
       "      <td>7.2500</td>\n",
       "      <td>S</td>\n",
       "      <td>Third</td>\n",
       "      <td>man</td>\n",
       "      <td>True</td>\n",
       "      <td>NaN</td>\n",
       "      <td>Southampton</td>\n",
       "      <td>no</td>\n",
       "      <td>False</td>\n",
       "    </tr>\n",
       "    <tr>\n",
       "      <td>1</td>\n",
       "      <td>1</td>\n",
       "      <td>1</td>\n",
       "      <td>female</td>\n",
       "      <td>38.0</td>\n",
       "      <td>1</td>\n",
       "      <td>0</td>\n",
       "      <td>71.2833</td>\n",
       "      <td>C</td>\n",
       "      <td>First</td>\n",
       "      <td>woman</td>\n",
       "      <td>False</td>\n",
       "      <td>C</td>\n",
       "      <td>Cherbourg</td>\n",
       "      <td>yes</td>\n",
       "      <td>False</td>\n",
       "    </tr>\n",
       "    <tr>\n",
       "      <td>2</td>\n",
       "      <td>1</td>\n",
       "      <td>3</td>\n",
       "      <td>female</td>\n",
       "      <td>26.0</td>\n",
       "      <td>0</td>\n",
       "      <td>0</td>\n",
       "      <td>7.9250</td>\n",
       "      <td>S</td>\n",
       "      <td>Third</td>\n",
       "      <td>woman</td>\n",
       "      <td>False</td>\n",
       "      <td>NaN</td>\n",
       "      <td>Southampton</td>\n",
       "      <td>yes</td>\n",
       "      <td>True</td>\n",
       "    </tr>\n",
       "    <tr>\n",
       "      <td>3</td>\n",
       "      <td>1</td>\n",
       "      <td>1</td>\n",
       "      <td>female</td>\n",
       "      <td>35.0</td>\n",
       "      <td>1</td>\n",
       "      <td>0</td>\n",
       "      <td>53.1000</td>\n",
       "      <td>S</td>\n",
       "      <td>First</td>\n",
       "      <td>woman</td>\n",
       "      <td>False</td>\n",
       "      <td>C</td>\n",
       "      <td>Southampton</td>\n",
       "      <td>yes</td>\n",
       "      <td>False</td>\n",
       "    </tr>\n",
       "    <tr>\n",
       "      <td>4</td>\n",
       "      <td>0</td>\n",
       "      <td>3</td>\n",
       "      <td>male</td>\n",
       "      <td>35.0</td>\n",
       "      <td>0</td>\n",
       "      <td>0</td>\n",
       "      <td>8.0500</td>\n",
       "      <td>S</td>\n",
       "      <td>Third</td>\n",
       "      <td>man</td>\n",
       "      <td>True</td>\n",
       "      <td>NaN</td>\n",
       "      <td>Southampton</td>\n",
       "      <td>no</td>\n",
       "      <td>True</td>\n",
       "    </tr>\n",
       "  </tbody>\n",
       "</table>\n",
       "</div>"
      ],
      "text/plain": [
       "   survived  pclass     sex   age  sibsp  parch     fare embarked  class  \\\n",
       "0         0       3    male  22.0      1      0   7.2500        S  Third   \n",
       "1         1       1  female  38.0      1      0  71.2833        C  First   \n",
       "2         1       3  female  26.0      0      0   7.9250        S  Third   \n",
       "3         1       1  female  35.0      1      0  53.1000        S  First   \n",
       "4         0       3    male  35.0      0      0   8.0500        S  Third   \n",
       "\n",
       "     who  adult_male deck  embark_town alive  alone  \n",
       "0    man        True  NaN  Southampton    no  False  \n",
       "1  woman       False    C    Cherbourg   yes  False  \n",
       "2  woman       False  NaN  Southampton   yes   True  \n",
       "3  woman       False    C  Southampton   yes  False  \n",
       "4    man        True  NaN  Southampton    no   True  "
      ]
     },
     "execution_count": 4,
     "metadata": {},
     "output_type": "execute_result"
    }
   ],
   "source": [
    "# Начало кода\n",
    "import seaborn as sns\n",
    "import pandas as pd\n",
    "import numpy as np\n",
    "\n",
    "titanic = sns.load_dataset(\"titanic\")\n",
    "data=titanic.copy()\n",
    "titanic.head()\n",
    "# Конец кода"
   ]
  },
  {
   "cell_type": "markdown",
   "metadata": {},
   "source": [
    "2. Пожалуйста, реализуйте функцию ```label_encoding(labels)```, которая будет возвращать закодированные категорийные данные на основе ```Label Encoding```. Вы не можете использовать библиотеку ```sklearn``` в этой задаче."
   ]
  },
  {
   "cell_type": "code",
   "execution_count": 11,
   "metadata": {},
   "outputs": [
    {
     "name": "stdout",
     "output_type": "stream",
     "text": [
      "[0, 1, 1, 1, 0, 0, 0, 0, 1, 1]\n",
      "{'male': 0, 'female': 1}\n",
      "{0: 'male', 1: 'female'}\n"
     ]
    }
   ],
   "source": [
    "def label_encoding(labels):\n",
    "    # Начало кода\n",
    "    label2idx = {}\n",
    "    idx2label = {}\n",
    "    encoded = []\n",
    "    \n",
    "    uniques = np.unique(labels)[::-1]\n",
    "    for i in range(len(uniques)):\n",
    "        label2idx[uniques[i]] = i\n",
    "        idx2label[i] = uniques[i]\n",
    "    for i in labels:\n",
    "        encoded.append(label2idx[i])\n",
    "    # Конец кода\n",
    "    return (encoded, label2idx, idx2label)\n",
    "\n",
    "encoded, label2idx, idx2label = label_encoding(data[\"sex\"].values)\n",
    "print(encoded[:10])\n",
    "print(label2idx)\n",
    "print(idx2label)"
   ]
  },
  {
   "cell_type": "markdown",
   "metadata": {},
   "source": [
    "### Ожидаемые результаты:\n",
    "\n",
    "```python\n",
    "[0, 1, 1, 1, 0, 0, 0, 0, 1, 1]\n",
    "{'male': 0, 'female': 1}\n",
    "{0: 'male', 1: 'female'}\n",
    "```"
   ]
  },
  {
   "cell_type": "markdown",
   "metadata": {},
   "source": [
    "3. Пожалуйста, реализуйте функцию ```onehot_encoding(labels)```, которая будет возвращать закодированные категорийные данные на основе ```One-hot Encoding```. Вы не можете использовать библиотеку ```sklearn``` в этой задаче."
   ]
  },
  {
   "cell_type": "code",
   "execution_count": 24,
   "metadata": {},
   "outputs": [
    {
     "name": "stdout",
     "output_type": "stream",
     "text": [
      "[[1. 0.]\n",
      " [0. 1.]\n",
      " [0. 1.]\n",
      " ...\n",
      " [0. 1.]\n",
      " [1. 0.]\n",
      " [1. 0.]]\n",
      "{'male': 0, 'female': 1}\n",
      "{0: 'male', 1: 'female'}\n"
     ]
    }
   ],
   "source": [
    "def onehot_encoding(labels):\n",
    "    # Начало кода\n",
    "    label2idx = {}\n",
    "    idx2label = {}\n",
    "    encodings = []\n",
    "    \n",
    "    uniques = np.unique(labels)[::-1]\n",
    "    for i in range(len(uniques)):\n",
    "        label2idx[uniques[i]] = i\n",
    "        idx2label[i] = uniques[i]\n",
    "    uniques_idx = np.array([label2idx[i] for i in uniques])\n",
    "    for i in labels:\n",
    "        arr = label2idx[i] == uniques_idx\n",
    "        arr = arr.astype(float)\n",
    "        encodings.append(arr)\n",
    "    encodings = np.array(encodings)\n",
    "    # Конец кода\n",
    "    return (encodings, label2idx, idx2label)\n",
    "\n",
    "encodings, label2idx, idx2label = onehot_encoding(data[\"sex\"].values)\n",
    "print(encodings)\n",
    "print(label2idx)\n",
    "print(idx2label)"
   ]
  },
  {
   "cell_type": "markdown",
   "metadata": {},
   "source": [
    "### Ожидаемые результаты:\n",
    "\n",
    "```python\n",
    "[[1. 0.]\n",
    " [0. 1.]\n",
    " [0. 1.]\n",
    " ...\n",
    " [0. 1.]\n",
    " [1. 0.]\n",
    " [1. 0.]]\n",
    "{'male': 0, 'female': 1}\n",
    "{0: 'male', 1: 'female'}\n",
    "```"
   ]
  },
  {
   "cell_type": "markdown",
   "metadata": {},
   "source": [
    "4. Пожалуйста, реализуйте функцию ```label_encoding_sklearn(labels)```, которая будет возвращать закодированные категорийные данные на основе ```Label Encoding```. Вы должны использовать библиотеку ```sklearn``` в этой задаче."
   ]
  },
  {
   "cell_type": "code",
   "execution_count": 28,
   "metadata": {},
   "outputs": [
    {
     "name": "stdout",
     "output_type": "stream",
     "text": [
      "[1 0 0 0 1 1 1 1 0 0]\n",
      "LabelEncoder()\n"
     ]
    }
   ],
   "source": [
    "from sklearn.preprocessing import LabelEncoder\n",
    "\n",
    "def label_encoding_sklearn(labels):\n",
    "    # Начало кода\n",
    "    encoded = []\n",
    "    \n",
    "    encoder = LabelEncoder()\n",
    "    encoded = encoder.fit_transform(np.array(labels))\n",
    "    # Конец кода\n",
    "    return (encoded, encoder)\n",
    "\n",
    "encoded, encoder = label_encoding_sklearn(data[\"sex\"].values.reshape(-1,1))\n",
    "print(encoded[:10])\n",
    "print(encoder)"
   ]
  },
  {
   "cell_type": "markdown",
   "metadata": {},
   "source": [
    "### Ожидаемые результаты:\n",
    "\n",
    "```python\n",
    "[1 0 0 0 1 1 1 1 0 0]\n",
    "LabelEncoder()\n",
    "```"
   ]
  },
  {
   "cell_type": "markdown",
   "metadata": {},
   "source": [
    "5. Пожалуйста, реализуйте функцию ```onehot_encoding_sklearn(labels)```, которая будет возвращать закодированные категорийные данные на основе ```One-hot Encoding```. Вы должны использовать библиотеку ```sklearn``` в этой задаче."
   ]
  },
  {
   "cell_type": "code",
   "execution_count": 30,
   "metadata": {},
   "outputs": [
    {
     "name": "stdout",
     "output_type": "stream",
     "text": [
      "[[0. 1.]\n",
      " [1. 0.]\n",
      " [1. 0.]\n",
      " ...\n",
      " [1. 0.]\n",
      " [0. 1.]\n",
      " [0. 1.]]\n",
      "OneHotEncoder(categorical_features=None, categories=None, drop=None,\n",
      "              dtype=<class 'numpy.float64'>, handle_unknown='error',\n",
      "              n_values=None, sparse=True)\n"
     ]
    }
   ],
   "source": [
    "from sklearn.preprocessing import OneHotEncoder\n",
    "\n",
    "def onehot_encoding_sklearn(labels):\n",
    "    # Начало кода\n",
    "    encoded = []\n",
    "    \n",
    "    encoder = OneHotEncoder()\n",
    "    encoded = encoder.fit_transform(np.array(labels)).toarray()\n",
    "    # Конец кода\n",
    "    return (encoded, encoder)\n",
    "encoded, encoder = onehot_encoding_sklearn(data[\"sex\"].values.reshape(-1,1))\n",
    "print(encoded)\n",
    "print(encoder)"
   ]
  },
  {
   "cell_type": "markdown",
   "metadata": {},
   "source": [
    "### Ожидаемые результаты:\n",
    "\n",
    "```python\n",
    "[[0. 1.]\n",
    " [1. 0.]\n",
    " [1. 0.]\n",
    " ...\n",
    " [1. 0.]\n",
    " [0. 1.]\n",
    " [0. 1.]]\n",
    "OneHotEncoder()\n",
    "```"
   ]
  },
  {
   "cell_type": "markdown",
   "metadata": {},
   "source": [
    "6. Пожалуйста, реализуйте функцию ```hash_encoding_sklearn(labels)```, которая будет возвращать закодированные категорийные данные на основе ```Hashing```. Вы должны использовать библиотеку ```sklearn``` в этой задаче."
   ]
  },
  {
   "cell_type": "code",
   "execution_count": 32,
   "metadata": {},
   "outputs": [
    {
     "name": "stdout",
     "output_type": "stream",
     "text": [
      "[[-1.  0.  0.  0.]\n",
      " [ 0. -1.  0.  0.]\n",
      " [ 0. -1.  0.  0.]\n",
      " ...\n",
      " [ 0. -1.  0.  0.]\n",
      " [-1.  0.  0.  0.]\n",
      " [-1.  0.  0.  0.]]\n",
      "FeatureHasher(alternate_sign=True, dtype=<class 'numpy.float64'>,\n",
      "              input_type='string', n_features=4)\n"
     ]
    }
   ],
   "source": [
    "from sklearn.feature_extraction import FeatureHasher\n",
    "\n",
    "def hash_encoding_sklearn(labels, n_features=4, input_type=\"string\"):\n",
    "    # Начало кода\n",
    "    encoded = []\n",
    "    encoder = FeatureHasher(n_features = n_features, input_type = input_type)\n",
    "    encoded = encoder.fit_transform(np.array(labels)).toarray()\n",
    "    # Конец кода\n",
    "    return (encoded, encoder)\n",
    "encoded, encoder = hash_encoding_sklearn(data[\"sex\"].values.reshape(-1,1))\n",
    "print(encoded)\n",
    "print(encoder)"
   ]
  },
  {
   "cell_type": "markdown",
   "metadata": {},
   "source": [
    "### Ожидаемые результаты:\n",
    "\n",
    "```python\n",
    "[[-1.  0.  0.  0.]\n",
    " [ 0. -1.  0.  0.]\n",
    " [ 0. -1.  0.  0.]\n",
    " ...\n",
    " [ 0. -1.  0.  0.]\n",
    " [-1.  0.  0.  0.]\n",
    " [-1.  0.  0.  0.]]\n",
    "FeatureHasher(input_type='string', n_features=4)\n",
    "```"
   ]
  },
  {
   "cell_type": "markdown",
   "metadata": {},
   "source": [
    "7. Теперь попробуйте использовать эти реализованные функции и преобразовать другие категориальные столбцы в ```data``` в закодированные данные."
   ]
  },
  {
   "cell_type": "code",
   "execution_count": 34,
   "metadata": {},
   "outputs": [
    {
     "data": {
      "text/plain": [
       "array(['S', 'C', 'Q', nan], dtype=object)"
      ]
     },
     "execution_count": 34,
     "metadata": {},
     "output_type": "execute_result"
    }
   ],
   "source": [
    "data[\"embarked\"].unique()"
   ]
  },
  {
   "cell_type": "code",
   "execution_count": 36,
   "metadata": {},
   "outputs": [
    {
     "name": "stdout",
     "output_type": "stream",
     "text": [
      "[2 0 2 2 2 1 2 2 2 0]\n",
      "LabelEncoder()\n"
     ]
    }
   ],
   "source": [
    "# Начало кода\n",
    "encoded, encoder = label_encoding_sklearn(data[\"embarked\"].dropna().values.reshape(-1,1))\n",
    "print(encoded[:10])\n",
    "print(encoder)\n",
    "# Конец кода"
   ]
  },
  {
   "cell_type": "code",
   "execution_count": 38,
   "metadata": {},
   "outputs": [
    {
     "data": {
      "text/plain": [
       "[Third, First, Second]\n",
       "Categories (3, object): [Third, First, Second]"
      ]
     },
     "execution_count": 38,
     "metadata": {},
     "output_type": "execute_result"
    }
   ],
   "source": [
    "data[\"class\"].unique()"
   ]
  },
  {
   "cell_type": "code",
   "execution_count": 41,
   "metadata": {},
   "outputs": [
    {
     "name": "stdout",
     "output_type": "stream",
     "text": [
      "[[0. 0. 1.]\n",
      " [1. 0. 0.]\n",
      " [0. 0. 1.]\n",
      " [1. 0. 0.]\n",
      " [0. 0. 1.]\n",
      " [0. 0. 1.]\n",
      " [1. 0. 0.]\n",
      " [0. 0. 1.]\n",
      " [0. 0. 1.]\n",
      " [0. 1. 0.]]\n",
      "OneHotEncoder(categorical_features=None, categories=None, drop=None,\n",
      "              dtype=<class 'numpy.float64'>, handle_unknown='error',\n",
      "              n_values=None, sparse=True)\n"
     ]
    }
   ],
   "source": [
    "encoded, encoder = onehot_encoding_sklearn(data[\"class\"].astype(\"object\").values.reshape(-1,1))\n",
    "print(encoded[:10])\n",
    "print(encoder)"
   ]
  },
  {
   "cell_type": "code",
   "execution_count": 42,
   "metadata": {},
   "outputs": [
    {
     "data": {
      "text/plain": [
       "array(['man', 'woman', 'child'], dtype=object)"
      ]
     },
     "execution_count": 42,
     "metadata": {},
     "output_type": "execute_result"
    }
   ],
   "source": [
    "data[\"who\"].unique()"
   ]
  },
  {
   "cell_type": "code",
   "execution_count": 59,
   "metadata": {},
   "outputs": [
    {
     "name": "stdout",
     "output_type": "stream",
     "text": [
      "[[0. 0. 1. 0.]\n",
      " [0. 0. 1. 0.]\n",
      " [0. 0. 1. 0.]\n",
      " [1. 0. 0. 0.]\n",
      " [0. 0. 1. 0.]\n",
      " [0. 0. 1. 0.]\n",
      " [1. 0. 0. 0.]\n",
      " [0. 0. 1. 0.]\n",
      " [0. 0. 1. 0.]\n",
      " [0. 0. 1. 0.]]\n",
      "FeatureHasher(alternate_sign=True, dtype=<class 'numpy.float64'>,\n",
      "              input_type='string', n_features=4)\n"
     ]
    }
   ],
   "source": [
    "encoded, encoder = hash_encoding_sklearn(data[\"who\"].values.reshape(-1,1),n_features=4)\n",
    "print(encoded[5:15])\n",
    "print(encoder)"
   ]
  },
  {
   "cell_type": "code",
   "execution_count": 60,
   "metadata": {},
   "outputs": [
    {
     "data": {
      "text/plain": [
       "array([ True, False])"
      ]
     },
     "execution_count": 60,
     "metadata": {},
     "output_type": "execute_result"
    }
   ],
   "source": [
    "data[\"adult_male\"].unique()"
   ]
  },
  {
   "cell_type": "code",
   "execution_count": 62,
   "metadata": {},
   "outputs": [
    {
     "name": "stdout",
     "output_type": "stream",
     "text": [
      "[0, 1, 1, 1, 0, 0, 0, 1, 1, 1]\n"
     ]
    }
   ],
   "source": [
    "encoded, label2idx, idx2label = label_encoding(data[\"adult_male\"].values)\n",
    "print(encoded[:10])"
   ]
  },
  {
   "cell_type": "code",
   "execution_count": 63,
   "metadata": {},
   "outputs": [
    {
     "data": {
      "text/plain": [
       "array(['Southampton', 'Cherbourg', 'Queenstown', nan], dtype=object)"
      ]
     },
     "execution_count": 63,
     "metadata": {},
     "output_type": "execute_result"
    }
   ],
   "source": [
    "data[\"embark_town\"].unique()"
   ]
  },
  {
   "cell_type": "code",
   "execution_count": 65,
   "metadata": {},
   "outputs": [
    {
     "name": "stdout",
     "output_type": "stream",
     "text": [
      "[[1. 0. 0.]\n",
      " [0. 0. 1.]\n",
      " [1. 0. 0.]\n",
      " ...\n",
      " [1. 0. 0.]\n",
      " [0. 0. 1.]\n",
      " [0. 1. 0.]]\n"
     ]
    }
   ],
   "source": [
    "encodings, label2idx, idx2label = onehot_encoding(data[\"embark_town\"].dropna().values)\n",
    "print(encodings)"
   ]
  },
  {
   "cell_type": "markdown",
   "metadata": {},
   "source": [
    "### Отличная работа"
   ]
  }
 ],
 "metadata": {
  "kernelspec": {
   "display_name": "Python 3",
   "language": "python",
   "name": "python3"
  },
  "language_info": {
   "codemirror_mode": {
    "name": "ipython",
    "version": 3
   },
   "file_extension": ".py",
   "mimetype": "text/x-python",
   "name": "python",
   "nbconvert_exporter": "python",
   "pygments_lexer": "ipython3",
   "version": "3.7.4"
  }
 },
 "nbformat": 4,
 "nbformat_minor": 2
}
