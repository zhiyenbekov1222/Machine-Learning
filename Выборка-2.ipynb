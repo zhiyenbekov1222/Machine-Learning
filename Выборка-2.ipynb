{
 "cells": [
  {
   "cell_type": "markdown",
   "metadata": {},
   "source": [
    "### Выборка-2 [Домашнее задание]"
   ]
  },
  {
   "cell_type": "markdown",
   "metadata": {},
   "source": [
    "**Примечание:**\n",
    "\n",
    "> Пожалуйста, не удаляйте комментарии или строки кода.\n",
    "\n",
    "> Пожалуйста, покажите ваше решение, написав процедуру расчета.\n",
    "\n",
    "**Например:**\n",
    "\n",
    "Если вы подбросите монету, какова вероятность получить Tails?\n",
    "\n",
    "**Ваше решение должно выглядеть так:**\n",
    "\n",
    "```\n",
    "p_tails = 1 / (2**1) # Хороший пример решения\n",
    "# p_tails = 0.5 # Плохой пример решения\n",
    "```"
   ]
  },
  {
   "cell_type": "markdown",
   "metadata": {},
   "source": [
    "1. Пожалуйста, скачайте набор данных по указанной ссылке:\n",
    "\n",
    "```\n",
    "https://www.kaggle.com/justinas/nba-players-data\n",
    "```"
   ]
  },
  {
   "cell_type": "code",
   "execution_count": 1,
   "metadata": {},
   "outputs": [
    {
     "data": {
      "text/html": [
       "<div>\n",
       "<style scoped>\n",
       "    .dataframe tbody tr th:only-of-type {\n",
       "        vertical-align: middle;\n",
       "    }\n",
       "\n",
       "    .dataframe tbody tr th {\n",
       "        vertical-align: top;\n",
       "    }\n",
       "\n",
       "    .dataframe thead th {\n",
       "        text-align: right;\n",
       "    }\n",
       "</style>\n",
       "<table border=\"1\" class=\"dataframe\">\n",
       "  <thead>\n",
       "    <tr style=\"text-align: right;\">\n",
       "      <th></th>\n",
       "      <th>Unnamed: 0</th>\n",
       "      <th>player_name</th>\n",
       "      <th>team_abbreviation</th>\n",
       "      <th>age</th>\n",
       "      <th>player_height</th>\n",
       "      <th>player_weight</th>\n",
       "      <th>college</th>\n",
       "      <th>country</th>\n",
       "      <th>draft_year</th>\n",
       "      <th>draft_round</th>\n",
       "      <th>...</th>\n",
       "      <th>pts</th>\n",
       "      <th>reb</th>\n",
       "      <th>ast</th>\n",
       "      <th>net_rating</th>\n",
       "      <th>oreb_pct</th>\n",
       "      <th>dreb_pct</th>\n",
       "      <th>usg_pct</th>\n",
       "      <th>ts_pct</th>\n",
       "      <th>ast_pct</th>\n",
       "      <th>season</th>\n",
       "    </tr>\n",
       "  </thead>\n",
       "  <tbody>\n",
       "    <tr>\n",
       "      <th>0</th>\n",
       "      <td>0</td>\n",
       "      <td>Travis Knight</td>\n",
       "      <td>LAL</td>\n",
       "      <td>22.0</td>\n",
       "      <td>213.36</td>\n",
       "      <td>106.59412</td>\n",
       "      <td>Connecticut</td>\n",
       "      <td>USA</td>\n",
       "      <td>1996</td>\n",
       "      <td>1</td>\n",
       "      <td>...</td>\n",
       "      <td>4.8</td>\n",
       "      <td>4.5</td>\n",
       "      <td>0.5</td>\n",
       "      <td>6.2</td>\n",
       "      <td>0.127</td>\n",
       "      <td>0.182</td>\n",
       "      <td>0.142</td>\n",
       "      <td>0.536</td>\n",
       "      <td>0.052</td>\n",
       "      <td>1996-97</td>\n",
       "    </tr>\n",
       "    <tr>\n",
       "      <th>1</th>\n",
       "      <td>1</td>\n",
       "      <td>Matt Fish</td>\n",
       "      <td>MIA</td>\n",
       "      <td>27.0</td>\n",
       "      <td>210.82</td>\n",
       "      <td>106.59412</td>\n",
       "      <td>North Carolina-Wilmington</td>\n",
       "      <td>USA</td>\n",
       "      <td>1992</td>\n",
       "      <td>2</td>\n",
       "      <td>...</td>\n",
       "      <td>0.3</td>\n",
       "      <td>0.8</td>\n",
       "      <td>0.0</td>\n",
       "      <td>-15.1</td>\n",
       "      <td>0.143</td>\n",
       "      <td>0.267</td>\n",
       "      <td>0.265</td>\n",
       "      <td>0.333</td>\n",
       "      <td>0.000</td>\n",
       "      <td>1996-97</td>\n",
       "    </tr>\n",
       "    <tr>\n",
       "      <th>2</th>\n",
       "      <td>2</td>\n",
       "      <td>Matt Bullard</td>\n",
       "      <td>HOU</td>\n",
       "      <td>30.0</td>\n",
       "      <td>208.28</td>\n",
       "      <td>106.59412</td>\n",
       "      <td>Iowa</td>\n",
       "      <td>USA</td>\n",
       "      <td>Undrafted</td>\n",
       "      <td>Undrafted</td>\n",
       "      <td>...</td>\n",
       "      <td>4.5</td>\n",
       "      <td>1.6</td>\n",
       "      <td>0.9</td>\n",
       "      <td>0.9</td>\n",
       "      <td>0.016</td>\n",
       "      <td>0.115</td>\n",
       "      <td>0.151</td>\n",
       "      <td>0.535</td>\n",
       "      <td>0.099</td>\n",
       "      <td>1996-97</td>\n",
       "    </tr>\n",
       "    <tr>\n",
       "      <th>3</th>\n",
       "      <td>3</td>\n",
       "      <td>Marty Conlon</td>\n",
       "      <td>BOS</td>\n",
       "      <td>29.0</td>\n",
       "      <td>210.82</td>\n",
       "      <td>111.13004</td>\n",
       "      <td>Providence</td>\n",
       "      <td>USA</td>\n",
       "      <td>Undrafted</td>\n",
       "      <td>Undrafted</td>\n",
       "      <td>...</td>\n",
       "      <td>7.8</td>\n",
       "      <td>4.4</td>\n",
       "      <td>1.4</td>\n",
       "      <td>-9.0</td>\n",
       "      <td>0.083</td>\n",
       "      <td>0.152</td>\n",
       "      <td>0.167</td>\n",
       "      <td>0.542</td>\n",
       "      <td>0.101</td>\n",
       "      <td>1996-97</td>\n",
       "    </tr>\n",
       "    <tr>\n",
       "      <th>4</th>\n",
       "      <td>4</td>\n",
       "      <td>Martin Muursepp</td>\n",
       "      <td>DAL</td>\n",
       "      <td>22.0</td>\n",
       "      <td>205.74</td>\n",
       "      <td>106.59412</td>\n",
       "      <td>None</td>\n",
       "      <td>USA</td>\n",
       "      <td>1996</td>\n",
       "      <td>1</td>\n",
       "      <td>...</td>\n",
       "      <td>3.7</td>\n",
       "      <td>1.6</td>\n",
       "      <td>0.5</td>\n",
       "      <td>-14.5</td>\n",
       "      <td>0.109</td>\n",
       "      <td>0.118</td>\n",
       "      <td>0.233</td>\n",
       "      <td>0.482</td>\n",
       "      <td>0.114</td>\n",
       "      <td>1996-97</td>\n",
       "    </tr>\n",
       "  </tbody>\n",
       "</table>\n",
       "<p>5 rows × 22 columns</p>\n",
       "</div>"
      ],
      "text/plain": [
       "   Unnamed: 0      player_name team_abbreviation   age  player_height  \\\n",
       "0           0    Travis Knight               LAL  22.0         213.36   \n",
       "1           1        Matt Fish               MIA  27.0         210.82   \n",
       "2           2     Matt Bullard               HOU  30.0         208.28   \n",
       "3           3     Marty Conlon               BOS  29.0         210.82   \n",
       "4           4  Martin Muursepp               DAL  22.0         205.74   \n",
       "\n",
       "   player_weight                    college country draft_year draft_round  \\\n",
       "0      106.59412                Connecticut     USA       1996           1   \n",
       "1      106.59412  North Carolina-Wilmington     USA       1992           2   \n",
       "2      106.59412                       Iowa     USA  Undrafted   Undrafted   \n",
       "3      111.13004                 Providence     USA  Undrafted   Undrafted   \n",
       "4      106.59412                       None     USA       1996           1   \n",
       "\n",
       "   ...  pts  reb  ast  net_rating  oreb_pct  dreb_pct  usg_pct  ts_pct  \\\n",
       "0  ...  4.8  4.5  0.5         6.2     0.127     0.182    0.142   0.536   \n",
       "1  ...  0.3  0.8  0.0       -15.1     0.143     0.267    0.265   0.333   \n",
       "2  ...  4.5  1.6  0.9         0.9     0.016     0.115    0.151   0.535   \n",
       "3  ...  7.8  4.4  1.4        -9.0     0.083     0.152    0.167   0.542   \n",
       "4  ...  3.7  1.6  0.5       -14.5     0.109     0.118    0.233   0.482   \n",
       "\n",
       "   ast_pct   season  \n",
       "0    0.052  1996-97  \n",
       "1    0.000  1996-97  \n",
       "2    0.099  1996-97  \n",
       "3    0.101  1996-97  \n",
       "4    0.114  1996-97  \n",
       "\n",
       "[5 rows x 22 columns]"
      ]
     },
     "execution_count": 1,
     "metadata": {},
     "output_type": "execute_result"
    }
   ],
   "source": [
    "#Начало вашего кода\n",
    "import pandas as pd\n",
    "data = pd.read_csv(\"all_seasons.csv\")\n",
    "#Конец вашего кода\n",
    "data.head()"
   ]
  },
  {
   "cell_type": "markdown",
   "metadata": {},
   "source": [
    "2. Пожалуйста, получите коэффициенты корреляции между столбцами ```player_height``` и ```player_weight```. \n",
    "Присвойте результат переменной ```corr_weight_height```:"
   ]
  },
  {
   "cell_type": "code",
   "execution_count": 2,
   "metadata": {},
   "outputs": [
    {
     "name": "stdout",
     "output_type": "stream",
     "text": [
      "0.8273013138578139\n"
     ]
    }
   ],
   "source": [
    "#Начало вашего кода\n",
    "player_height = data[\"player_height\"]\n",
    "player_weight = data[\"player_weight\"]\n",
    "corr_weight_height = player_height.corr(player_weight) \n",
    "#Конец вашего кода\n",
    "print(corr_weight_height)"
   ]
  },
  {
   "cell_type": "markdown",
   "metadata": {},
   "source": [
    "### Ожидаемые результаты:\n",
    "\n",
    "```\n",
    "0.829901\n",
    "```"
   ]
  },
  {
   "cell_type": "markdown",
   "metadata": {},
   "source": [
    "3. Пожалуйста, реализуйте функцию ```random_samples(data, smp_size=100, col=None)```, которая будет делать случайную выборку из данных ```data``` размера ```smp_size``` и вычислять статистику для ```col```. Пожалуйста, используйте метод ```sample()``` из ```DataFrame``` для выполнения выборки в функции. Функция должна возвращать список ```random_state``` и список статистики соответствующих выборок."
   ]
  },
  {
   "cell_type": "code",
   "execution_count": 3,
   "metadata": {},
   "outputs": [
    {
     "name": "stdout",
     "output_type": "stream",
     "text": [
      "[[0, 1, 2, 3, 4, 5, 6, 7, 8, 9, 10, 11, 12, 13, 14, 15, 16, 17, 18, 19, 20, 21, 22, 23, 24, 25, 26, 27, 28, 29, 30, 31, 32, 33, 34, 35, 36, 37, 38, 39, 40, 41, 42, 43, 44, 45, 46, 47, 48, 49, 50, 51, 52, 53, 54, 55, 56, 57, 58, 59, 60, 61, 62, 63, 64, 65, 66, 67, 68, 69, 70, 71, 72, 73, 74, 75, 76, 77, 78, 79, 80, 81, 82, 83, 84, 85, 86, 87, 88, 89, 90, 91, 92, 93, 94, 95, 96, 97, 98, 99], [100.16218543999999, 101.73484927999995, 100.01703599999999, 99.65233760000001, 100.29826304, 100.57949008, 100.85618120000002, 101.25987808000002, 102.84291416000003, 100.54426728, 101.20544704, 101.02854616000002, 102.30313968000004, 100.00796416000001, 101.06029760000001, 100.65660072000003, 101.34606056000001, 100.12136216, 100.18940096000001, 98.47935912000003, 100.48877167999999, 99.71766528000003, 101.77243704, 102.43921728000005, 99.56344399999998, 99.45911783999998, 102.7612676, 100.31640671999997, 99.14431456, 102.11263104, 100.29826304, 102.24688383999997, 101.66357495999999, 98.75151432000003, 100.48423576000005, 100.35723000000002, 99.43643824, 99.99889232000001, 101.46399448000005, 102.02915968, 100.34815816, 100.55681047999995, 98.83316087999998, 100.42526880000001, 98.34781744000001, 99.67230607999998, 101.76790112, 99.48633336, 100.70973135999999, 99.37747128000002, 98.84223272, 98.76058616, 101.50028184000001, 100.03517968000001, 100.64299295999997, 101.17640672000002, 99.10985200000005, 100.35269408000003, 102.15345432000002, 100.83350160000002, 99.79931183999997, 98.22187623999994, 100.08507479999999, 101.54564103999995, 99.0871724, 99.96260496, 101.65450312000002, 100.85618119999998, 100.32871408000001, 100.22115240000005, 99.10985199999999, 101.55471288000003, 101.37327608, 100.65206479999999, 100.37407327999998, 102.32128336, 98.84676863999995, 102.96991992000001, 101.58646432000003, 100.00796415999999, 99.21871407999994, 100.57495416000005, 99.69952159999997, 102.86559375999995, 99.35479167999998, 100.18940096, 99.74305600000001, 100.84710936000002, 103.03342280000001, 100.70649584000004, 103.46433520000002, 99.58158767999996, 99.25046551999998, 101.63635943999999, 100.81082200000003, 101.70439824000005, 100.87432488, 101.18730336000003, 101.70439823999999, 102.74312392]]\n"
     ]
    }
   ],
   "source": [
    "def random_sample(data, smp_size=100, col=None):\n",
    "    #Начало вашего кода\n",
    "    means = []\n",
    "    random_means = []\n",
    "    for i in range(100):             \n",
    "        means.append(i)\n",
    "        random_means.append(data[col].sample(smp_size, random_state=i).mean())\n",
    "    return [means, random_means]\n",
    "    #Конец вашего код\n",
    "print(random_sample(data, 100, \"player_weight\"))"
   ]
  },
  {
   "cell_type": "markdown",
   "metadata": {},
   "source": [
    "4. Пожалуйста, реализуйте функцию ```stratified_sample(data, bins, ratio, sam_col=None, col=None, smp_size=100)```, которая будет делать стратифицированную выборку по столбцу ```smp_col``` из данных ```data``` размера ```smp_size``` и вычислять статистику для столбца ```col```. Обратите внимание на следующие входные аргументы функции:\n",
    "    \n",
    "    * ```bins``` : список, содержащий границы ```bins```. Например, ```bins = [0,1,2,3]```, означает, что есть три диапазона (0,1], (1,2], (2,3]\n",
    "    \n",
    "    * ```ratio``` : список соотношений элементов в каждом диапазоне приведенных в списке ```bins```. Например, ```ratio = [0.3, 0.4, 0.3]```, означает, что 30% всех элементов находятся между 0 и 1; 40% всех элементов находятся между 1 и 2; 30% всех элементов находятся между 2 и 3, если ```bins = [0,1,2,3]```.\n",
    "\n",
    "    Пожалуйста, используйте метод ```sample()``` из ```DataFrame``` для выполнения выборки в функции. Функция должна возвращать список ```random_state``` и список статистики соответствующих выборок."
   ]
  },
  {
   "cell_type": "code",
   "execution_count": 4,
   "metadata": {},
   "outputs": [
    {
     "ename": "NameError",
     "evalue": "name 'binss' is not defined",
     "output_type": "error",
     "traceback": [
      "\u001b[1;31m---------------------------------------------------------------------------\u001b[0m",
      "\u001b[1;31mNameError\u001b[0m                                 Traceback (most recent call last)",
      "Input \u001b[1;32mIn [4]\u001b[0m, in \u001b[0;36m<module>\u001b[1;34m\u001b[0m\n\u001b[1;32m----> 1\u001b[0m \u001b[43mbinss\u001b[49m\n",
      "\u001b[1;31mNameError\u001b[0m: name 'binss' is not defined"
     ]
    }
   ],
   "source": [
    "binss"
   ]
  },
  {
   "cell_type": "code",
   "execution_count": null,
   "metadata": {},
   "outputs": [],
   "source": [
    "data[(binss[0][0] < data[\"player_height\"]) & (binss[0][1] <= data[\"player_height\"])][\"player_height\"].min()"
   ]
  },
  {
   "cell_type": "code",
   "execution_count": null,
   "metadata": {},
   "outputs": [],
   "source": [
    "import numpy as np\n",
    "\n",
    "ttt = data[\"player_height\"].value_counts(normalize=True, bins=3)\n",
    "binss = []\n",
    "for num in ttt.index.tolist():\n",
    "    binss.append([num.left, num.right]) \n",
    "ratioss = ttt.tolist()\n",
    "\n",
    "def stratified_sample(data, bins, ratio, sam_col=None, col=None, smp_size=100):\n",
    "    #Начало вашего кода\n",
    "    means = []\n",
    "    random_means = []        \n",
    "    for i in range(100):        \n",
    "        smp4 = []\n",
    "        for x in range(len(ratio)):            \n",
    "            smp4.append(data[(bins[x][0] < data[sam_col]) & (bins[x][1] <= data[sam_col])].sample(round(smp_size * ratio[x]), random_state=i, replace=True))\n",
    "            #print(type(smp4))\n",
    "        smp5 = pd.concat(smp4)\n",
    "        means.append(smp5[col].mean())\n",
    "        random_means.append(data[col].sample(smp_size, random_state=i).mean())\n",
    "    return [means, random_means]\n",
    "    #Конец вашего кода\n",
    "print(stratified_sample(data, binss, ratioss, \"player_height\", \"player_weight\", 100))"
   ]
  },
  {
   "cell_type": "markdown",
   "metadata": {},
   "source": [
    "### 5. Получите три ```bins``` и соответствующие соотношения элементов для столбца ```player_height```, используя метод ```value_counts()```. Присвойте результат переменным ```bins``` и ```ratios```."
   ]
  },
  {
   "cell_type": "code",
   "execution_count": null,
   "metadata": {},
   "outputs": [],
   "source": [
    "#Начало вашего кода\n",
    "ccc = data[\"player_height\"].value_counts(normalize=True, bins=20)\n",
    "binsss = []\n",
    "for num in ccc.index.tolist():\n",
    "    binsss.append([num.left, num.right])\n",
    "ratiosss = ccc.tolist()\n",
    "#Конец вашего кода\n",
    "print(ccc)\n",
    "print(binsss)\n",
    "print(ratiosss)"
   ]
  },
  {
   "cell_type": "markdown",
   "metadata": {},
   "source": [
    "### Ожидаемые результаты:\n",
    "\n",
    "```\n",
    "(17.973, 26.667]    0.498789\n",
    "(26.667, 35.333]    0.458053\n",
    "(35.333, 44.0]      0.043158\n",
    "Name: age, dtype: float64\n",
    "[17.973, 26.667, 35.333, 44.0]\n",
    "[0.498789, 0.458053, 0.043158]\n",
    "```"
   ]
  },
  {
   "cell_type": "markdown",
   "metadata": {},
   "source": [
    "6. Теперь выполните случайную и стратифицированную выборку и вычислите статистику для столбца ```player_weight``` и визуализируйте их."
   ]
  },
  {
   "cell_type": "code",
   "execution_count": null,
   "metadata": {},
   "outputs": [],
   "source": [
    "#Начало вашего кода\n",
    "import matplotlib.pyplot as plt\n",
    "%matplotlib inline\n",
    "\n",
    "plt.scatter(list(range(1, 101)), stratified_sample(data, binsss, ratiosss, \"player_height\", \"player_weight\", 100)[0], label=\"stratified\");\n",
    "plt.scatter(list(range(1, 101)), random_sample(data, smp_size=100, col=\"player_weight\")[1], label=\"random\");\n",
    "plt.axhline(data[\"player_weight\"].mean(), color=\"r\", label=\"parameter\");\n",
    "plt.legend();\n",
    "#Конец вашего кода"
   ]
  },
  {
   "attachments": {
    "image.png": {
     "image/png": "[encoded data removed]"
    }
   },
   "cell_type": "markdown",
   "metadata": {},
   "source": [
    "## Ожидаемые результаты:\n",
    "\n",
    "![image.png](attachment:image.png)"
   ]
  },
  {
   "cell_type": "markdown",
   "metadata": {},
   "source": [
    "7. Как вы можете видеть, стратификация по ```player_height```, использование трех bins не помогает уменьшить ошибку выборки. Пожалуйста, найдите правильное количество бинов или стратифицирующий столбец (все, кроме ```player_weight```), чтобы ошибка выборки была уменьшена."
   ]
  },
  {
   "cell_type": "code",
   "execution_count": null,
   "metadata": {},
   "outputs": [],
   "source": [
    "ggg"
   ]
  },
  {
   "cell_type": "code",
   "execution_count": null,
   "metadata": {},
   "outputs": [],
   "source": [
    "#Начало вашего кода\n",
    "ggg = data[\"net_rating\"].value_counts(normalize=True, bins=8)\n",
    "binssss = []\n",
    "for num in ggg.index.tolist():\n",
    "    binssss.append([num.left, num.right])\n",
    "ratios_1 = ggg.tolist()\n",
    "\n",
    "plt.scatter(list(range(1, 101)), stratified_sample(data, binssss, ratios_1, \"player_height\", \"player_weight\", 100)[0], label=\"stratified\");\n",
    "plt.scatter(list(range(1, 101)), random_sample(data, smp_size=100, col=\"player_weight\")[1], label=\"random\");\n",
    "plt.axhline(data[\"player_weight\"].mean(), color=\"r\", label=\"parameter\");\n",
    "plt.ylabel(\"mean player weight\");\n",
    "plt.xlabel(\"random state\");\n",
    "plt.title(\"Sample size: 100\");\n",
    "plt.legend();\n",
    "\n",
    "#Конец вашего кода"
   ]
  },
  {
   "cell_type": "markdown",
   "metadata": {},
   "source": [
    "### Отличная работа"
   ]
  }
 ],
 "metadata": {
  "kernelspec": {
   "display_name": "Python 3",
   "language": "python",
   "name": "python3"
  },
  "language_info": {
   "codemirror_mode": {
    "name": "ipython",
    "version": 3
   },
   "file_extension": ".py",
   "mimetype": "text/x-python",
   "name": "python",
   "nbconvert_exporter": "python",
   "pygments_lexer": "ipython3",
   "version": "3.8.5"
  }
 },
 "nbformat": 4,
 "nbformat_minor": 2
}
