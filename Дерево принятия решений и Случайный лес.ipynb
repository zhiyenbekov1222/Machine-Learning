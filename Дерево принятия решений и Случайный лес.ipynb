{
 "cells": [
  {
   "cell_type": "markdown",
   "metadata": {},
   "source": [
    "### Дерево принятия решений и Случайный лес [Домашнее задание]"
   ]
  },
  {
   "cell_type": "markdown",
   "metadata": {},
   "source": [
    "Следуйте следующим инструкциям:\n",
    "\n",
    "1. Загрузите набор данных ```\"wine\"``` из библиотеки ```sklearn```. (Подсказка: ```sklearn.datasets.load_wine```)\n",
    "\n",
    "2. Выполните анализ, очистку и всю необходимую предварительную обработку набора данных. Примечание: вам не разрешено отбрасывать точки данных.\n",
    "\n",
    "3. Разделите данные на ```train``` и ```validation``` со следующим соотношением 8-2, используя функцию ```train_test_split()``` из библиотеки ```sklearn```. Обратите внимание, вы должны установить ```random_state = 1```.\n",
    "\n",
    "4. Используя алгоритмы ```Дерево принятия решений``` и ```Случайный лес``` из библиотеки ```sklearn```, постройте модели для классификации вина.\n",
    "\n",
    "5. Реализуйте алгоритм с нуля ```Случайный лес``` как класс RandomForest(), **использовать ```Дерево принятия решений``` из библиотеки sklearn можно.**\n",
    "\n",
    "6. Используя загруженный набор данных, сравните предоставленные sklearn алгоритмы и ваш реализованный алгоритм, они должны иметь **похожие** прогнозы.\n",
    "\n",
    "8. Сравните среднее время выполнения одного прогноза с помощью библиотеки ```time```.\n",
    "\n",
    "\n",
    "Вы можете использовать шаблон кода ниже.\n",
    "\n",
    "```python\n",
    "class RandomForest:\n",
    "    def __init__(self, n_estimators=10, max_sample=1):\n",
    "        '''\n",
    "        n_estimators: размер случайного леса\n",
    "        max_sample: размер выборки для обучения одного дерева принятия решений (0 < max_sample < 1)\n",
    "        '''\n",
    "        # ваш код\n",
    "    \n",
    "    def fit(self, X, y):\n",
    "        # ваш код\n",
    "    \n",
    "    def predict(self, X):\n",
    "        # ваш код\n",
    "\n",
    "```\n",
    "\n",
    "**Примечание:** На всех этапах, пожалуйста, включайте пояснения."
   ]
  },
  {
   "cell_type": "code",
   "execution_count": 1,
   "metadata": {},
   "outputs": [],
   "source": [
    "import numpy as np\n",
    "import pandas as pd\n",
    "import matplotlib.pyplot as plt\n",
    "import seaborn as sns\n",
    "%matplotlib inline\n",
    "\n",
    "from warnings import filterwarnings\n",
    "filterwarnings('ignore')"
   ]
  },
  {
   "cell_type": "code",
   "execution_count": 2,
   "metadata": {},
   "outputs": [],
   "source": [
    "from sklearn.datasets import load_wine\n",
    "\n",
    "data = load_wine()"
   ]
  },
  {
   "cell_type": "code",
   "execution_count": 3,
   "metadata": {},
   "outputs": [],
   "source": [
    "from sklearn.model_selection import train_test_split\n",
    "\n",
    "X_train, X_test, y_train, y_test = train_test_split(data['data'], data['target'], random_state=1, train_size=0.8)"
   ]
  },
  {
   "cell_type": "code",
   "execution_count": 4,
   "metadata": {},
   "outputs": [
    {
     "name": "stdout",
     "output_type": "stream",
     "text": [
      "0.8888888888888888\n",
      "0.9722222222222222\n"
     ]
    }
   ],
   "source": [
    "from sklearn.tree import DecisionTreeClassifier\n",
    "from sklearn.ensemble import RandomForestClassifier\n",
    "\n",
    "tree_clf = DecisionTreeClassifier()\n",
    "tree_clf.fit(X_train, y_train)\n",
    "y_pred = tree_clf.predict(X_test)\n",
    "print((y_pred == y_test).sum() / len(y_test))\n",
    "\n",
    "forest_clf = RandomForestClassifier()\n",
    "forest_clf.fit(X_train, y_train)\n",
    "y_pred = forest_clf.predict(X_test)\n",
    "print((y_pred == y_test).sum() / len(y_test))"
   ]
  },
  {
   "cell_type": "code",
   "execution_count": 5,
   "metadata": {},
   "outputs": [
    {
     "data": {
      "text/plain": [
       "0.9722222222222222"
      ]
     },
     "execution_count": 5,
     "metadata": {},
     "output_type": "execute_result"
    }
   ],
   "source": [
    "from scipy.stats import mode\n",
    "\n",
    "class RandomForest:\n",
    "    \n",
    "    def __init__(self, n_estimators=100, max_sample=1):\n",
    "        \n",
    "        self.n_estimators = n_estimators\n",
    "        self.max_sample = max_sample\n",
    "        self.estimators = [DecisionTreeClassifier(splitter='random') for i in range(n_estimators)]\n",
    "        \n",
    "    def fit(self, X, y):\n",
    "        \n",
    "        size = len(X)\n",
    "        indeces = np.arange(size)\n",
    "        size = np.int(size*self.max_sample)\n",
    "        for estimator in self.estimators:\n",
    "            np.random.shuffle(indeces)\n",
    "            estimator.fit(X[indeces[:size]], y[indeces[:size]])\n",
    "        return self\n",
    "            \n",
    "    def predict(self, X):\n",
    "        \n",
    "        y_pred = []\n",
    "        for estimator in self.estimators:\n",
    "            y_pred.append(estimator.predict(X))\n",
    "        return mode(np.array(y_pred)).mode.reshape(-1)\n",
    "        \n",
    "(RandomForest().fit(X_train, y_train).predict(X_test) == y_test).sum() / len(y_test)"
   ]
  },
  {
   "cell_type": "markdown",
   "metadata": {},
   "source": [
    "__Результаты одинакоовые__"
   ]
  },
  {
   "cell_type": "code",
   "execution_count": 6,
   "metadata": {},
   "outputs": [
    {
     "name": "stdout",
     "output_type": "stream",
     "text": [
      "48.8 ms ± 1.18 ms per loop (mean ± std. dev. of 7 runs, 10 loops each)\n",
      "141 ms ± 2.6 ms per loop (mean ± std. dev. of 7 runs, 10 loops each)\n"
     ]
    }
   ],
   "source": [
    "%timeit (RandomForest().fit(X_train, y_train).predict(X_test) == y_test).sum() / len(y_test)\n",
    "%timeit (RandomForestClassifier().fit(X_train, y_train).predict(X_test) == y_test).sum() / len(y_test)"
   ]
  },
  {
   "cell_type": "markdown",
   "metadata": {},
   "source": [
    "__Реализованная модель случайного леса оказаалась быстрее модели из библиотеки sklearn__"
   ]
  }
 ],
 "metadata": {
  "kernelspec": {
   "display_name": "Python 3",
   "language": "python",
   "name": "python3"
  },
  "language_info": {
   "codemirror_mode": {
    "name": "ipython",
    "version": 3
   },
   "file_extension": ".py",
   "mimetype": "text/x-python",
   "name": "python",
   "nbconvert_exporter": "python",
   "pygments_lexer": "ipython3",
   "version": "3.8.5"
  }
 },
 "nbformat": 4,
 "nbformat_minor": 4
}
