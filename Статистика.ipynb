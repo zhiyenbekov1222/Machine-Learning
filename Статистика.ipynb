{
 "cells": [
  {
   "cell_type": "markdown",
   "metadata": {},
   "source": [
    "### Статистика [Домашнее задание]"
   ]
  },
  {
   "cell_type": "markdown",
   "metadata": {},
   "source": [
    "**Примечание:**\n",
    "\n",
    "> Пожалуйста, не удаляйте комментарии или строки кода.\n",
    "\n",
    "> Пожалуйста, покажите ваше решение, написав процедуру расчета.\n",
    "\n",
    "**Например:**\n",
    "\n",
    "Если вы подбросите монету, какова вероятность получить Tails?\n",
    "\n",
    "**Ваше решение должно выглядеть так:**\n",
    "\n",
    "```\n",
    "p_tails = 1 / (2**1) # Хороший пример решения\n",
    "# p_tails = 0.5 # Плохой пример решения\n",
    "```"
   ]
  },
  {
   "cell_type": "markdown",
   "metadata": {},
   "source": [
    "1. Пожалуйста, скачайте набор данных по указанной ссылке и загрузите ```data.csv``` в ```DataFrame```. Кроме того, удалите столбец ```\"date\"``` из ```DataFrame```.\n",
    "\n",
    "```\n",
    "https://www.kaggle.com/shree1992/housedata\n",
    "```\n",
    "\n",
    "\n"
   ]
  },
  {
   "cell_type": "code",
   "execution_count": 1,
   "metadata": {},
   "outputs": [
    {
     "data": {
      "text/html": [
       "<div>\n",
       "<style scoped>\n",
       "    .dataframe tbody tr th:only-of-type {\n",
       "        vertical-align: middle;\n",
       "    }\n",
       "\n",
       "    .dataframe tbody tr th {\n",
       "        vertical-align: top;\n",
       "    }\n",
       "\n",
       "    .dataframe thead th {\n",
       "        text-align: right;\n",
       "    }\n",
       "</style>\n",
       "<table border=\"1\" class=\"dataframe\">\n",
       "  <thead>\n",
       "    <tr style=\"text-align: right;\">\n",
       "      <th></th>\n",
       "      <th>price</th>\n",
       "      <th>bedrooms</th>\n",
       "      <th>bathrooms</th>\n",
       "      <th>sqft_living</th>\n",
       "      <th>sqft_lot</th>\n",
       "      <th>floors</th>\n",
       "      <th>waterfront</th>\n",
       "      <th>view</th>\n",
       "      <th>condition</th>\n",
       "      <th>sqft_above</th>\n",
       "      <th>sqft_basement</th>\n",
       "      <th>yr_built</th>\n",
       "      <th>yr_renovated</th>\n",
       "      <th>street</th>\n",
       "      <th>city</th>\n",
       "      <th>statezip</th>\n",
       "      <th>country</th>\n",
       "    </tr>\n",
       "  </thead>\n",
       "  <tbody>\n",
       "    <tr>\n",
       "      <td>0</td>\n",
       "      <td>3.130000e+05</td>\n",
       "      <td>3.0</td>\n",
       "      <td>1.50</td>\n",
       "      <td>1340</td>\n",
       "      <td>7912</td>\n",
       "      <td>1.5</td>\n",
       "      <td>0</td>\n",
       "      <td>0</td>\n",
       "      <td>3</td>\n",
       "      <td>1340</td>\n",
       "      <td>0</td>\n",
       "      <td>1955</td>\n",
       "      <td>2005</td>\n",
       "      <td>18810 Densmore Ave N</td>\n",
       "      <td>Shoreline</td>\n",
       "      <td>WA 98133</td>\n",
       "      <td>USA</td>\n",
       "    </tr>\n",
       "    <tr>\n",
       "      <td>1</td>\n",
       "      <td>2.384000e+06</td>\n",
       "      <td>5.0</td>\n",
       "      <td>2.50</td>\n",
       "      <td>3650</td>\n",
       "      <td>9050</td>\n",
       "      <td>2.0</td>\n",
       "      <td>0</td>\n",
       "      <td>4</td>\n",
       "      <td>5</td>\n",
       "      <td>3370</td>\n",
       "      <td>280</td>\n",
       "      <td>1921</td>\n",
       "      <td>0</td>\n",
       "      <td>709 W Blaine St</td>\n",
       "      <td>Seattle</td>\n",
       "      <td>WA 98119</td>\n",
       "      <td>USA</td>\n",
       "    </tr>\n",
       "    <tr>\n",
       "      <td>2</td>\n",
       "      <td>3.420000e+05</td>\n",
       "      <td>3.0</td>\n",
       "      <td>2.00</td>\n",
       "      <td>1930</td>\n",
       "      <td>11947</td>\n",
       "      <td>1.0</td>\n",
       "      <td>0</td>\n",
       "      <td>0</td>\n",
       "      <td>4</td>\n",
       "      <td>1930</td>\n",
       "      <td>0</td>\n",
       "      <td>1966</td>\n",
       "      <td>0</td>\n",
       "      <td>26206-26214 143rd Ave SE</td>\n",
       "      <td>Kent</td>\n",
       "      <td>WA 98042</td>\n",
       "      <td>USA</td>\n",
       "    </tr>\n",
       "    <tr>\n",
       "      <td>3</td>\n",
       "      <td>4.200000e+05</td>\n",
       "      <td>3.0</td>\n",
       "      <td>2.25</td>\n",
       "      <td>2000</td>\n",
       "      <td>8030</td>\n",
       "      <td>1.0</td>\n",
       "      <td>0</td>\n",
       "      <td>0</td>\n",
       "      <td>4</td>\n",
       "      <td>1000</td>\n",
       "      <td>1000</td>\n",
       "      <td>1963</td>\n",
       "      <td>0</td>\n",
       "      <td>857 170th Pl NE</td>\n",
       "      <td>Bellevue</td>\n",
       "      <td>WA 98008</td>\n",
       "      <td>USA</td>\n",
       "    </tr>\n",
       "    <tr>\n",
       "      <td>4</td>\n",
       "      <td>5.500000e+05</td>\n",
       "      <td>4.0</td>\n",
       "      <td>2.50</td>\n",
       "      <td>1940</td>\n",
       "      <td>10500</td>\n",
       "      <td>1.0</td>\n",
       "      <td>0</td>\n",
       "      <td>0</td>\n",
       "      <td>4</td>\n",
       "      <td>1140</td>\n",
       "      <td>800</td>\n",
       "      <td>1976</td>\n",
       "      <td>1992</td>\n",
       "      <td>9105 170th Ave NE</td>\n",
       "      <td>Redmond</td>\n",
       "      <td>WA 98052</td>\n",
       "      <td>USA</td>\n",
       "    </tr>\n",
       "    <tr>\n",
       "      <td>...</td>\n",
       "      <td>...</td>\n",
       "      <td>...</td>\n",
       "      <td>...</td>\n",
       "      <td>...</td>\n",
       "      <td>...</td>\n",
       "      <td>...</td>\n",
       "      <td>...</td>\n",
       "      <td>...</td>\n",
       "      <td>...</td>\n",
       "      <td>...</td>\n",
       "      <td>...</td>\n",
       "      <td>...</td>\n",
       "      <td>...</td>\n",
       "      <td>...</td>\n",
       "      <td>...</td>\n",
       "      <td>...</td>\n",
       "      <td>...</td>\n",
       "    </tr>\n",
       "    <tr>\n",
       "      <td>4595</td>\n",
       "      <td>3.081667e+05</td>\n",
       "      <td>3.0</td>\n",
       "      <td>1.75</td>\n",
       "      <td>1510</td>\n",
       "      <td>6360</td>\n",
       "      <td>1.0</td>\n",
       "      <td>0</td>\n",
       "      <td>0</td>\n",
       "      <td>4</td>\n",
       "      <td>1510</td>\n",
       "      <td>0</td>\n",
       "      <td>1954</td>\n",
       "      <td>1979</td>\n",
       "      <td>501 N 143rd St</td>\n",
       "      <td>Seattle</td>\n",
       "      <td>WA 98133</td>\n",
       "      <td>USA</td>\n",
       "    </tr>\n",
       "    <tr>\n",
       "      <td>4596</td>\n",
       "      <td>5.343333e+05</td>\n",
       "      <td>3.0</td>\n",
       "      <td>2.50</td>\n",
       "      <td>1460</td>\n",
       "      <td>7573</td>\n",
       "      <td>2.0</td>\n",
       "      <td>0</td>\n",
       "      <td>0</td>\n",
       "      <td>3</td>\n",
       "      <td>1460</td>\n",
       "      <td>0</td>\n",
       "      <td>1983</td>\n",
       "      <td>2009</td>\n",
       "      <td>14855 SE 10th Pl</td>\n",
       "      <td>Bellevue</td>\n",
       "      <td>WA 98007</td>\n",
       "      <td>USA</td>\n",
       "    </tr>\n",
       "    <tr>\n",
       "      <td>4597</td>\n",
       "      <td>4.169042e+05</td>\n",
       "      <td>3.0</td>\n",
       "      <td>2.50</td>\n",
       "      <td>3010</td>\n",
       "      <td>7014</td>\n",
       "      <td>2.0</td>\n",
       "      <td>0</td>\n",
       "      <td>0</td>\n",
       "      <td>3</td>\n",
       "      <td>3010</td>\n",
       "      <td>0</td>\n",
       "      <td>2009</td>\n",
       "      <td>0</td>\n",
       "      <td>759 Ilwaco Pl NE</td>\n",
       "      <td>Renton</td>\n",
       "      <td>WA 98059</td>\n",
       "      <td>USA</td>\n",
       "    </tr>\n",
       "    <tr>\n",
       "      <td>4598</td>\n",
       "      <td>2.034000e+05</td>\n",
       "      <td>4.0</td>\n",
       "      <td>2.00</td>\n",
       "      <td>2090</td>\n",
       "      <td>6630</td>\n",
       "      <td>1.0</td>\n",
       "      <td>0</td>\n",
       "      <td>0</td>\n",
       "      <td>3</td>\n",
       "      <td>1070</td>\n",
       "      <td>1020</td>\n",
       "      <td>1974</td>\n",
       "      <td>0</td>\n",
       "      <td>5148 S Creston St</td>\n",
       "      <td>Seattle</td>\n",
       "      <td>WA 98178</td>\n",
       "      <td>USA</td>\n",
       "    </tr>\n",
       "    <tr>\n",
       "      <td>4599</td>\n",
       "      <td>2.206000e+05</td>\n",
       "      <td>3.0</td>\n",
       "      <td>2.50</td>\n",
       "      <td>1490</td>\n",
       "      <td>8102</td>\n",
       "      <td>2.0</td>\n",
       "      <td>0</td>\n",
       "      <td>0</td>\n",
       "      <td>4</td>\n",
       "      <td>1490</td>\n",
       "      <td>0</td>\n",
       "      <td>1990</td>\n",
       "      <td>0</td>\n",
       "      <td>18717 SE 258th St</td>\n",
       "      <td>Covington</td>\n",
       "      <td>WA 98042</td>\n",
       "      <td>USA</td>\n",
       "    </tr>\n",
       "  </tbody>\n",
       "</table>\n",
       "<p>4600 rows × 17 columns</p>\n",
       "</div>"
      ],
      "text/plain": [
       "             price  bedrooms  bathrooms  sqft_living  sqft_lot  floors  \\\n",
       "0     3.130000e+05       3.0       1.50         1340      7912     1.5   \n",
       "1     2.384000e+06       5.0       2.50         3650      9050     2.0   \n",
       "2     3.420000e+05       3.0       2.00         1930     11947     1.0   \n",
       "3     4.200000e+05       3.0       2.25         2000      8030     1.0   \n",
       "4     5.500000e+05       4.0       2.50         1940     10500     1.0   \n",
       "...            ...       ...        ...          ...       ...     ...   \n",
       "4595  3.081667e+05       3.0       1.75         1510      6360     1.0   \n",
       "4596  5.343333e+05       3.0       2.50         1460      7573     2.0   \n",
       "4597  4.169042e+05       3.0       2.50         3010      7014     2.0   \n",
       "4598  2.034000e+05       4.0       2.00         2090      6630     1.0   \n",
       "4599  2.206000e+05       3.0       2.50         1490      8102     2.0   \n",
       "\n",
       "      waterfront  view  condition  sqft_above  sqft_basement  yr_built  \\\n",
       "0              0     0          3        1340              0      1955   \n",
       "1              0     4          5        3370            280      1921   \n",
       "2              0     0          4        1930              0      1966   \n",
       "3              0     0          4        1000           1000      1963   \n",
       "4              0     0          4        1140            800      1976   \n",
       "...          ...   ...        ...         ...            ...       ...   \n",
       "4595           0     0          4        1510              0      1954   \n",
       "4596           0     0          3        1460              0      1983   \n",
       "4597           0     0          3        3010              0      2009   \n",
       "4598           0     0          3        1070           1020      1974   \n",
       "4599           0     0          4        1490              0      1990   \n",
       "\n",
       "      yr_renovated                    street       city  statezip country  \n",
       "0             2005      18810 Densmore Ave N  Shoreline  WA 98133     USA  \n",
       "1                0           709 W Blaine St    Seattle  WA 98119     USA  \n",
       "2                0  26206-26214 143rd Ave SE       Kent  WA 98042     USA  \n",
       "3                0           857 170th Pl NE   Bellevue  WA 98008     USA  \n",
       "4             1992         9105 170th Ave NE    Redmond  WA 98052     USA  \n",
       "...            ...                       ...        ...       ...     ...  \n",
       "4595          1979            501 N 143rd St    Seattle  WA 98133     USA  \n",
       "4596          2009          14855 SE 10th Pl   Bellevue  WA 98007     USA  \n",
       "4597             0          759 Ilwaco Pl NE     Renton  WA 98059     USA  \n",
       "4598             0         5148 S Creston St    Seattle  WA 98178     USA  \n",
       "4599             0         18717 SE 258th St  Covington  WA 98042     USA  \n",
       "\n",
       "[4600 rows x 17 columns]"
      ]
     },
     "execution_count": 1,
     "metadata": {},
     "output_type": "execute_result"
    }
   ],
   "source": [
    "#Начало вашего кода\n",
    "import pandas as pd\n",
    "data = pd.read_csv(\"data.csv\")\n",
    "data = data.drop(\"date\", axis=1)\n",
    "#Конец вашего кода\n",
    "data"
   ]
  },
  {
   "cell_type": "markdown",
   "metadata": {},
   "source": [
    "2. Пожалуйста, определите каждый столбец в ```DataFrame```, как количественный ```\"quantitative\"``` или категориальный ```\"categorical\"```.\n",
    "\n",
    "\n"
   ]
  },
  {
   "cell_type": "code",
   "execution_count": 2,
   "metadata": {},
   "outputs": [
    {
     "name": "stdout",
     "output_type": "stream",
     "text": [
      "['price', 'bedrooms', 'bathrooms', 'sqft_living', 'sqft_lot', 'floors', 'sqft_above', 'sqft_basement']\n",
      "['waterfront', 'view', 'condition', 'yr_built', 'yr_renovated', 'street', 'city', 'statezip', 'country']\n"
     ]
    }
   ],
   "source": [
    "#Начало вашего кода\n",
    "quantitative_list = ['price', 'bedrooms', 'bathrooms', 'sqft_living', 'sqft_lot', 'floors', 'sqft_above', 'sqft_basement']\n",
    "categorical_list = ['waterfront', 'view', 'condition', 'yr_built', 'yr_renovated', 'street', 'city', 'statezip', 'country']\n",
    "#Конец вашего кода\n",
    "print(quantitative_list)\n",
    "print(categorical_list)"
   ]
  },
  {
   "cell_type": "markdown",
   "metadata": {},
   "source": [
    "### Ожидаемые результаты:\n",
    "\n",
    "```\n",
    "['price', 'bedrooms', 'bathrooms', 'sqft_living', 'sqft_lot', 'floors', 'sqft_above', 'sqft_basement']\n",
    "['waterfront', 'view', 'condition', 'yr_built', 'yr_renovated', 'street', 'city', 'statezip', 'country']\n",
    "```"
   ]
  },
  {
   "cell_type": "markdown",
   "metadata": {},
   "source": [
    "3. Пожалуйста, реализуйте функцию ```mean_value(data,col=None)```, которая будет возвращать среднее значение столбца из входного ```DataFrame```. Пожалуйста, не используйте методы ```mean()```, ```std()```, ```median()``` ,```sum()``` объекта ```DataFrame```."
   ]
  },
  {
   "cell_type": "code",
   "execution_count": 3,
   "metadata": {},
   "outputs": [
    {
     "name": "stdout",
     "output_type": "stream",
     "text": [
      "3.4008695652173913\n"
     ]
    }
   ],
   "source": [
    "def mean_value(data, col=None):\n",
    "    #Начало вашего кода\n",
    "    summ = 0\n",
    "    for num in data[col].tolist():\n",
    "        summ += num\n",
    "    return summ / len(data[col].tolist())\n",
    "    #Конец вашего кода\n",
    "print(mean_value(data, \"bedrooms\"))"
   ]
  },
  {
   "cell_type": "markdown",
   "metadata": {},
   "source": [
    "4. Пожалуйста, реализуйте функцию ```median_value(data,col=None)```, которая будет возвращать медиану столбца из входного ```DataFrame```. Пожалуйста, не используйте методы ```mean()```, ```std()```, ```median``` ,```sum()``` объекта ```DataFrame```."
   ]
  },
  {
   "cell_type": "code",
   "execution_count": 4,
   "metadata": {},
   "outputs": [
    {
     "name": "stdout",
     "output_type": "stream",
     "text": [
      "3.0\n"
     ]
    }
   ],
   "source": [
    "def median_value(data, col=None):\n",
    "    #Начало вашего кода\n",
    "    \n",
    "    if data[col].size % 2 == 0:\n",
    "        prev = int(data[col].size / 2 - 1)\n",
    "        nextt = int(data[col].size / 2  + 1)\n",
    "        return (data[col].sort_values(ascending=True).tolist()[prev] + data[col].sort_values(ascending=True).tolist()[nextt]) / 2\n",
    "    else:\n",
    "        res = int(data[col].size / 2  + 1)\n",
    "        return data[col].sort_values(ascending=True).tolist()[res]\n",
    "    \n",
    "    #Конец вашего кода\n",
    "print(median_value(data, col=\"bedrooms\"))"
   ]
  },
  {
   "cell_type": "markdown",
   "metadata": {},
   "source": [
    "5. Пожалуйста, реализуйте функцию ```weighted_mean_value(data, col=None, weight_col=None)```, которая будет возвращать средневзвешенное значение столбца ```col``` по отношению к ```weight_col``` из входного ```DataFrame```. Пожалуйста, не используйте методы ```mean()```, ```std()```, ```median``` ,```sum()``` объекта ```DataFrame```."
   ]
  },
  {
   "cell_type": "code",
   "execution_count": 5,
   "metadata": {},
   "outputs": [
    {
     "name": "stdout",
     "output_type": "stream",
     "text": [
      "3.580799315878166\n"
     ]
    }
   ],
   "source": [
    "def weighted_mean_value(data, col=None, weight_col=None):\n",
    "    #Начало вашего кода\n",
    "    rows_res = []\n",
    "    for c, w in zip(data[col].tolist(), data[weight_col].tolist()):\n",
    "        rows_res.append(c * w)\n",
    "    col_res_w = 0\n",
    "    for num in data[weight_col].tolist():\n",
    "        col_res_w += num\n",
    "    \n",
    "    row_res_col = 0\n",
    "    for num in rows_res:\n",
    "        row_res_col += num\n",
    "    \n",
    "    return row_res_col / col_res_w\n",
    "\n",
    "print(weighted_mean_value(data, col=\"bedrooms\", weight_col=\"bathrooms\"))\n",
    "    #Конец вашего кода"
   ]
  },
  {
   "cell_type": "markdown",
   "metadata": {},
   "source": [
    "6. Пожалуйста, реализуйте функцию ```mode_value(data, col=None)```, которая будет возвращать моду столбца ```col``` из входного ```DataFrame```. Пожалуйста, не используйте методы ```mean()```, ```std()```, ```median``` ,```sum()```,```mode()```объекта ```DataFrame```."
   ]
  },
  {
   "cell_type": "code",
   "execution_count": 6,
   "metadata": {},
   "outputs": [
    {
     "name": "stdout",
     "output_type": "stream",
     "text": [
      "3.0 - 2032\n"
     ]
    }
   ],
   "source": [
    "def mode_value(data, col=None):\n",
    "    #Начало вашего кода\n",
    "    max_qty = data[col].value_counts().iloc[0]\n",
    "    max_val = data[col].value_counts().index[0]\n",
    "    return str(max_val) + \" - \" + str(max_qty)\n",
    "    #Конец вашего кода\n",
    "print(mode_value(data, col=\"bedrooms\"))"
   ]
  },
  {
   "cell_type": "markdown",
   "metadata": {},
   "source": [
    "7. Пожалуйста, реализуйте функцию ```variability(data, col=None)```, которая будет возвращать размах вариации столбца ```col``` из входного ```DataFrame```. Пожалуйста, не используйте методы ```mean()```, ```std()```, ```median``` ,```sum()```,```mode()```объекта ```DataFrame```."
   ]
  },
  {
   "cell_type": "code",
   "execution_count": 7,
   "metadata": {},
   "outputs": [
    {
     "name": "stdout",
     "output_type": "stream",
     "text": [
      "9.0\n"
     ]
    }
   ],
   "source": [
    "def variability(data, col=None):\n",
    "    #Начало вашего кода    \n",
    "    return data[col].max() - data[col].min() # Здесь можно было без методов max min обоитись то есть сортировать весь элемент и взять первое значение и последние значие в списке и отнять\n",
    "print(variability(data, col=\"bedrooms\"))\n",
    "    #Конец вашего кода"
   ]
  },
  {
   "cell_type": "markdown",
   "metadata": {},
   "source": [
    "8. Пожалуйста, реализуйте функцию ```average_linear_deviation(data, col=None)```, которая будет возвращать среднее линейное отклонение столбца ```col``` из входного ```DataFrame```. Пожалуйста, не используйте методы ```mean()```, ```std()```, ```median``` ,```sum()```,```mode()```объекта ```DataFrame```."
   ]
  },
  {
   "cell_type": "code",
   "execution_count": 26,
   "metadata": {},
   "outputs": [
    {
     "name": "stdout",
     "output_type": "stream",
     "text": [
      "0.7415190926275954\n"
     ]
    }
   ],
   "source": [
    "def average_linear_deviation(data, col=None):\n",
    "    #Начало вашего кода\n",
    "    summ = 0\n",
    "    for num in data[col].tolist():\n",
    "        summ += num\n",
    "    mean = summ / len(data[col].tolist())\n",
    "    \n",
    "    res = 0\n",
    "    for val in data[col].tolist():\n",
    "        res += (abs(mean - val))\n",
    "    \n",
    "    return res / len(data[col].tolist())\n",
    "    #Конец вашего кода\n",
    "print(average_linear_deviation(data, col=\"bedrooms\"))"
   ]
  },
  {
   "cell_type": "markdown",
   "metadata": {},
   "source": [
    "9. Пожалуйста, реализуйте функцию ```standard_deviation(data, col=None)```, которая будет возвращать cреднеквадратическое отклонение столбца ```col``` из входного ```DataFrame```. Пожалуйста, не используйте методы ```mean()```, ```std()```, ```median``` ,```sum()```,```mode()```объекта ```DataFrame```."
   ]
  },
  {
   "cell_type": "code",
   "execution_count": 47,
   "metadata": {},
   "outputs": [
    {
     "name": "stdout",
     "output_type": "stream",
     "text": [
      "0.9087493223176885\n"
     ]
    }
   ],
   "source": [
    "import math\n",
    "def standard_deviation(data, col=None):\n",
    "    #Начало вашего кода\n",
    "    summ = 0\n",
    "    for num in data[col].tolist():\n",
    "        summ += num\n",
    "    mean = summ / len(data[col].tolist())\n",
    "    \n",
    "    res = 0\n",
    "    for val in data[col].tolist():\n",
    "        res += ((val - mean) ** 2)\n",
    "    return  math.sqrt(res / data[col].size)\n",
    "    #Конец вашего кода\n",
    "print(standard_deviation(data, col=\"bedrooms\"))\n",
    "#0.9087493223176885"
   ]
  },
  {
   "cell_type": "markdown",
   "metadata": {},
   "source": [
    "10. Пожалуйста, реализуйте функцию ```weighted_standard_deviation(data, col=None, weight_col=None)```, которая будет возвращать средневзвешенное отклонение столбца ```col``` по отношению к ```weight_col``` из входного ```DataFrame```. Пожалуйста, не используйте методы ```mean()```, ```std()```, ```median``` ,```sum()``` объекта ```DataFrame```."
   ]
  },
  {
   "cell_type": "code",
   "execution_count": 44,
   "metadata": {},
   "outputs": [
    {
     "name": "stdout",
     "output_type": "stream",
     "text": [
      "0.9160295813244981\n"
     ]
    }
   ],
   "source": [
    "\n",
    "def weighted_standard_deviation(data, col=None, weight_col=None):\n",
    "    #Начало вашего кода\n",
    "    mean = weighted_mean_value(data, col=col, weight_col=weight_col)\n",
    "    summ = 0\n",
    "    w_summ = 0\n",
    "    for x, y in zip(data[col].tolist(), data[weight_col].tolist()):\n",
    "        summ += ((mean - x) ** 2) * y\n",
    "        w_summ += y\n",
    "    return math.sqrt(summ / w_summ)\n",
    "    #Конец вашего кода\n",
    "print(weighted_standard_deviation(data, col=\"bedrooms\", weight_col=\"bathrooms\"))"
   ]
  },
  {
   "cell_type": "markdown",
   "metadata": {},
   "source": [
    "11. Пожалуйста, реализуйте функцию ```z_score(data, input=None, col=None)```, которая будет возвращать Z-оценка для ```input``` по отношению к столбцу ```col``` из входного ```DataFrame```. Пожалуйста, не используйте методы ```mean()```, ```std()```, ```median``` ,```sum()``` объекта ```DataFrame```."
   ]
  },
  {
   "cell_type": "code",
   "execution_count": 45,
   "metadata": {},
   "outputs": [
    {
     "name": "stdout",
     "output_type": "stream",
     "text": [
      "-0.44112227142575167\n"
     ]
    }
   ],
   "source": [
    "def z_score(data, input=None, col=None):\n",
    "    #Начало вашего кода\n",
    "    return (input - mean_value(data, col=col)) / standard_deviation(data, col=col)\n",
    "    #Конец вашего кода\n",
    "print(z_score(data, 3, col=\"bedrooms\"))"
   ]
  },
  {
   "cell_type": "markdown",
   "metadata": {},
   "source": [
    "12. Вы реализовали много функций, а как насчет тестирования этих функций? Пожалуйста, протестируйте каждую функцию, которую вы реализовали, теперь вы можете использовать встроенные методы ```DataFrame``` для проверки."
   ]
  },
  {
   "cell_type": "code",
   "execution_count": 46,
   "metadata": {},
   "outputs": [
    {
     "name": "stdout",
     "output_type": "stream",
     "text": [
      "0.9088481155258205\n",
      "3.4008695652173913\n",
      "3.0\n",
      "0    3.0\n",
      "dtype: float64\n",
      "correct\n",
      "correct\n",
      "correct\n",
      "correct\n",
      "1.6137430609197572\n",
      "1.7677669529663687\n"
     ]
    }
   ],
   "source": [
    "#Начало вашего кода\n",
    "print(data[\"bedrooms\"].std())\n",
    "print(data[\"bedrooms\"].mean())\n",
    "print(data[\"bedrooms\"].median())\n",
    "print(data[\"bedrooms\"].mode())\n",
    "\n",
    "test = data[\"bedrooms\"].iloc[0:6]\n",
    "weights = data[\"bathrooms\"].iloc[0:6]\n",
    "\n",
    "# test weighted_mean_value\n",
    "res_1 = []\n",
    "for n1, n2 in zip(test.tolist(), weights.tolist()):\n",
    "    res_1.append(n1 * n2)\n",
    "results_weighted_mean_value = sum(res_1) / sum(weights)\n",
    "\n",
    "if weighted_mean_value(data.iloc[0:6, :], col=\"bedrooms\",  weight_col=\"bathrooms\") == results_weighted_mean_value:\n",
    "    print(\"correct\")\n",
    "else:\n",
    "    print(\"incorrect\")\n",
    "\n",
    "# test variability\n",
    "\n",
    "result_variability = max(weights.tolist()) - min(weights.tolist())\n",
    "\n",
    "if variability(data.iloc[0:6, :], col=\"bathrooms\") == result_variability:\n",
    "    print(\"correct\")\n",
    "else:\n",
    "    print(\"incorrect\")\n",
    "\n",
    "# test average_linear_deviation\n",
    "mean = weights.mean()\n",
    "i = 0\n",
    "for num in weights.tolist():\n",
    "    i += (abs(mean - num))\n",
    "result_average_linear_deviation = i / len(weights.tolist())\n",
    "\n",
    "if average_linear_deviation(data.iloc[0:6, :], col=\"bathrooms\") == result_average_linear_deviation:\n",
    "    print(\"correct\")\n",
    "else:\n",
    "    print(\"incorrect\")\n",
    "    \n",
    "# test weighted_standard_deviation\n",
    "res_i = 0\n",
    "for num1, num2 in zip(test.tolist(), weights.tolist()):\n",
    "    res_i += ((results_weighted_mean_value - num1) ** 2)*num2\n",
    "res_weighted_standard_deviation = pow(res_i / sum(weights.tolist()), 0.5)\n",
    "\n",
    "if weighted_standard_deviation(data.iloc[0:6, :], col=\"bedrooms\",  weight_col=\"bathrooms\") == res_weighted_standard_deviation:\n",
    "    print(\"correct\")\n",
    "else:\n",
    "    print(\"incorrect\")\n",
    "\n",
    "#test z_score\n",
    "\n",
    "res_z_score = (5 - test.mean()) / test.std()\n",
    "print(res_z_score)\n",
    "print(z_score(data.iloc[0:6, :], input=5, col=\"bedrooms\"))\n",
    "\n",
    "# z_score есть небольшая разница в десятых я полагаю встроенный метод math.sqrt отличается от того что применено внутри метода std()\n",
    "#Конец вашего кода"
   ]
  },
  {
   "cell_type": "markdown",
   "metadata": {},
   "source": [
    "### Отличная работа"
   ]
  }
 ],
 "metadata": {
  "kernelspec": {
   "display_name": "Python 3",
   "language": "python",
   "name": "python3"
  },
  "language_info": {
   "codemirror_mode": {
    "name": "ipython",
    "version": 3
   },
   "file_extension": ".py",
   "mimetype": "text/x-python",
   "name": "python",
   "nbconvert_exporter": "python",
   "pygments_lexer": "ipython3",
   "version": "3.8.5"
  }
 },
 "nbformat": 4,
 "nbformat_minor": 2
}
