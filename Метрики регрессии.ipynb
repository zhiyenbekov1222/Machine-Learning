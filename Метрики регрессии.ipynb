{
 "cells": [
  {
   "cell_type": "markdown",
   "metadata": {},
   "source": [
    "### Метрики регрессии [Домашнее задание]"
   ]
  },
  {
   "cell_type": "markdown",
   "metadata": {},
   "source": [
    "**Примечание:**\n",
    "\n",
    "> Пожалуйста, не удаляйте комментарии или строки кода."
   ]
  },
  {
   "cell_type": "markdown",
   "metadata": {},
   "source": [
    "1. Пожалуйста, импортируйте необходимые библиотеки:\n",
    "\n",
    "```python\n",
    "numpy\n",
    "sklearn\n",
    "```"
   ]
  },
  {
   "cell_type": "code",
   "execution_count": 4,
   "metadata": {},
   "outputs": [],
   "source": [
    "# Начало кода\n",
    "import numpy as np\n",
    "import sklearn\n",
    "# Конец кода"
   ]
  },
  {
   "cell_type": "markdown",
   "metadata": {},
   "source": [
    "2. Создайте два ```np.ndarray``` массива ```targets```, ```predictions``` формы ```(100,)``` каждый, с целыми числами от 50000 до 100000. Сначала сгенерируйте массив ```targets```, а затем ```predictions```. (Установите ```np.random.seed``` на 1)"
   ]
  },
  {
   "cell_type": "code",
   "execution_count": 5,
   "metadata": {},
   "outputs": [
    {
     "name": "stdout",
     "output_type": "stream",
     "text": [
      "[83003 62172 55192 82511 93723 57813 71440 82912 70609 99100]\n",
      "[92755 99144 83229 79236 54059 80869 83483 72791 56221 85528]\n"
     ]
    }
   ],
   "source": [
    "# Начало кода\n",
    "np.random.seed(1)\n",
    "\n",
    "targets = np.random.randint(50000,100001,(100,))\n",
    "predictions = np.random.randint(50000,100001,(100,))\n",
    "# Конец кода\n",
    "print(targets[:10])\n",
    "print(predictions[:10])"
   ]
  },
  {
   "cell_type": "markdown",
   "metadata": {},
   "source": [
    "### Ожидаемые результаты:\n",
    "\n",
    "```python\n",
    "[83003 62172 55192 82511 93723 57813 71440 82912 70609 99100]\n",
    "[92755 99144 83229 79236 54059 80869 83483 72791 56221 85528]\n",
    "```"
   ]
  },
  {
   "cell_type": "markdown",
   "metadata": {},
   "source": [
    "3. Пожалуйста, реализуйте функцию ```calc_mse(truth, preds)```, которая будет возвращать MSE, рассчитанную с использованием ```truth``` и ```preds```. Вы не можете использовать библиотеку ```sklearn``` в этой задаче."
   ]
  },
  {
   "cell_type": "code",
   "execution_count": 6,
   "metadata": {},
   "outputs": [
    {
     "name": "stdout",
     "output_type": "stream",
     "text": [
      "368636309.49\n"
     ]
    }
   ],
   "source": [
    "# Начало кода\n",
    "def calc_mse(truth,preds):\n",
    "    mse = np.square(truth-preds).mean()\n",
    "    return mse    \n",
    "# Конец кода\n",
    "print(calc_mse(targets,predictions))"
   ]
  },
  {
   "cell_type": "markdown",
   "metadata": {},
   "source": [
    "### Ожидаемые результаты:\n",
    "\n",
    "```python\n",
    "411585982.45\n",
    "```"
   ]
  },
  {
   "cell_type": "markdown",
   "metadata": {},
   "source": [
    "4. Пожалуйста, реализуйте функцию ```calc_rmse(truth, preds)```, которая будет возвращать RMSE, рассчитанную с использованием ```truth``` и ```preds```. Вы не можете использовать библиотеку ```sklearn``` в этой задаче."
   ]
  },
  {
   "cell_type": "code",
   "execution_count": 8,
   "metadata": {},
   "outputs": [
    {
     "name": "stdout",
     "output_type": "stream",
     "text": [
      "19199.903892728213\n"
     ]
    }
   ],
   "source": [
    "# Начало кода\n",
    "def calc_rmse(truth,preds):\n",
    "    rmse = (np.square(truth-preds).mean())**(1/2)\n",
    "    return rmse\n",
    "# Конец кода\n",
    "print(calc_rmse(targets,predictions))"
   ]
  },
  {
   "cell_type": "markdown",
   "metadata": {},
   "source": [
    "### Ожидаемые результаты:\n",
    "\n",
    "```python\n",
    "20287.581976420945\n",
    "```"
   ]
  },
  {
   "cell_type": "markdown",
   "metadata": {},
   "source": [
    "5. Пожалуйста, реализуйте функцию ```calc_mae(truth, preds)```, которая будет возвращать MAE, рассчитанную с использованием ```truth``` и ```preds```. Вы не можете использовать библиотеку ```sklearn``` в этой задаче."
   ]
  },
  {
   "cell_type": "code",
   "execution_count": 9,
   "metadata": {},
   "outputs": [
    {
     "name": "stdout",
     "output_type": "stream",
     "text": [
      "16559.79\n"
     ]
    }
   ],
   "source": [
    "# Начало кода\n",
    "def calc_mae(truth,preds):\n",
    "    mae = (abs(truth-preds).mean())\n",
    "    return mae\n",
    "# Конец кода\n",
    "print(calc_mae(targets,predictions))"
   ]
  },
  {
   "cell_type": "markdown",
   "metadata": {},
   "source": [
    "### Ожидаемые результаты:\n",
    "\n",
    "```python\n",
    "16559.79\n",
    "```"
   ]
  },
  {
   "cell_type": "markdown",
   "metadata": {},
   "source": [
    "6. Пожалуйста, реализуйте функцию ```calc_r2(truth, preds)```, которая будет возвращать $R^2$, рассчитанную с использованием ```truth``` и ```preds```. Вы не можете использовать библиотеку ```sklearn``` в этой задаче."
   ]
  },
  {
   "cell_type": "code",
   "execution_count": 15,
   "metadata": {},
   "outputs": [
    {
     "name": "stdout",
     "output_type": "stream",
     "text": [
      "-0.7808925406279765\n"
     ]
    }
   ],
   "source": [
    "# Начало кода\n",
    "def calc_r2(truth,preds):\n",
    "    r2 = 1 - calc_mse(truth,preds)/calc_mse(truth,truth.mean())\n",
    "    return r2\n",
    "# Конец кода\n",
    "print(calc_r2(targets,predictions))"
   ]
  },
  {
   "cell_type": "markdown",
   "metadata": {},
   "source": [
    "### Ожидаемые результаты:\n",
    "\n",
    "```python\n",
    "-0.9883836374835617\n",
    "```"
   ]
  },
  {
   "cell_type": "markdown",
   "metadata": {},
   "source": [
    "7. Пожалуйста, реализуйте функцию ```calc_adjusted_r2(truth, preds, k=1)```, которая будет возвращать $Adjusted R^2$, рассчитанную с использованием ```truth``` и ```preds``` (```k``` - количество параметров модели). Вы не можете использовать библиотеку ```sklearn``` в этой задаче."
   ]
  },
  {
   "cell_type": "code",
   "execution_count": 16,
   "metadata": {},
   "outputs": [
    {
     "name": "stdout",
     "output_type": "stream",
     "text": [
      "-0.7990649134915275\n"
     ]
    }
   ],
   "source": [
    "# Начало кода\n",
    "def calc_adjusted_r2(truth,preds,k=1):\n",
    "    n = len(truth)\n",
    "    adj_r2 = 1 - (n - 1)*(1-calc_r2(truth,preds))/(n-k-1)\n",
    "    return adj_r2\n",
    "# Конец кода\n",
    "print(calc_adjusted_r2(targets,predictions))"
   ]
  },
  {
   "cell_type": "markdown",
   "metadata": {},
   "source": [
    "### Ожидаемые результаты:\n",
    "\n",
    "```python\n",
    "-1.0086732664374756\n",
    "```"
   ]
  },
  {
   "cell_type": "markdown",
   "metadata": {},
   "source": [
    "8. Теперь сравните результаты всех реализованных функций выше с результатами, сгенерированными соответствующими функциями из ```sklearn.metrics```."
   ]
  },
  {
   "cell_type": "code",
   "execution_count": 22,
   "metadata": {},
   "outputs": [
    {
     "name": "stdout",
     "output_type": "stream",
     "text": [
      "MSE custom: 368636309.49, MSE sklearn.metrics: 368636309.49\n",
      "RMSE custom: 19199.903892728213, RMSE sklearn.metrics: 19199.903892728213\n",
      "MAE custom: 16559.79, MAE sklearn.metrics: 16559.79\n",
      "R2 custom: -0.7808925406279765, R2 sklearn.metrics: -0.7808925406279763\n"
     ]
    }
   ],
   "source": [
    "# Начало кода\n",
    "import sklearn.metrics as metrics\n",
    "\n",
    "print(f\"MSE custom: {calc_mse(targets,predictions)}, MSE sklearn.metrics: {metrics.mean_squared_error(targets,predictions)}\")\n",
    "print(f\"RMSE custom: {calc_rmse(targets,predictions)}, RMSE sklearn.metrics: {metrics.mean_squared_error(targets,predictions,squared = False)}\")\n",
    "print(f\"MAE custom: {calc_mae(targets,predictions)}, MAE sklearn.metrics: {metrics.mean_absolute_error(targets,predictions)}\")\n",
    "print(f\"R2 custom: {calc_r2(targets,predictions)}, R2 sklearn.metrics: {metrics.r2_score(targets,predictions)}\")\n",
    "\n",
    "# Конец кода"
   ]
  },
  {
   "cell_type": "markdown",
   "metadata": {},
   "source": [
    "### Отличная работа"
   ]
  }
 ],
 "metadata": {
  "kernelspec": {
   "display_name": "Python 3",
   "language": "python",
   "name": "python3"
  },
  "language_info": {
   "codemirror_mode": {
    "name": "ipython",
    "version": 3
   },
   "file_extension": ".py",
   "mimetype": "text/x-python",
   "name": "python",
   "nbconvert_exporter": "python",
   "pygments_lexer": "ipython3",
   "version": "3.7.4"
  }
 },
 "nbformat": 4,
 "nbformat_minor": 2
}
