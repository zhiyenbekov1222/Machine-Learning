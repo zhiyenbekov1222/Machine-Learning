{
 "cells": [
  {
   "cell_type": "markdown",
   "metadata": {},
   "source": [
    "### Метрики классификации [Домашнее задание]"
   ]
  },
  {
   "cell_type": "markdown",
   "metadata": {},
   "source": [
    "**Примечание:**\n",
    "\n",
    "> Пожалуйста, не удаляйте комментарии или строки кода."
   ]
  },
  {
   "cell_type": "markdown",
   "metadata": {},
   "source": [
    "1. Пожалуйста, импортируйте необходимые библиотеки:\n",
    "\n",
    "```python\n",
    "numpy\n",
    "sklearn\n",
    "```"
   ]
  },
  {
   "cell_type": "code",
   "execution_count": 1,
   "metadata": {},
   "outputs": [],
   "source": [
    "# Начало кода\n",
    "import numpy as np\n",
    "import sklearn as sl\n",
    "# Конец кода"
   ]
  },
  {
   "cell_type": "markdown",
   "metadata": {},
   "source": [
    "2. Создайте два ```np.ndarray``` массива ```targets```, ```predictions``` формы ```(100,)``` каждый, с целыми числами от 0 до 1. Сначала сгенерируйте массив ```targets```, а затем ```predictions```. (Установите ```np.random.seed``` на 1)"
   ]
  },
  {
   "cell_type": "code",
   "execution_count": 2,
   "metadata": {},
   "outputs": [
    {
     "name": "stdout",
     "output_type": "stream",
     "text": [
      "[1 1 0 0 1 1 1 1 1 0]\n",
      "[1 1 1 0 0 0 0 0 1 1]\n"
     ]
    }
   ],
   "source": [
    "# Начало кода\n",
    "np.random.seed(1)\n",
    "targets = np.random.choice([0, 1], size=100)\n",
    "predictions = np.random.choice([0, 1], size=100)\n",
    "# Конец кода\n",
    "print(targets[:10])\n",
    "print(predictions[:10])"
   ]
  },
  {
   "cell_type": "markdown",
   "metadata": {},
   "source": [
    "### Ожидаемые результаты:\n",
    "\n",
    "```python\n",
    "[1 1 0 0 1 1 1 1 1 0]\n",
    "[1 1 1 0 0 0 0 0 1 1]\n",
    "```"
   ]
  },
  {
   "cell_type": "markdown",
   "metadata": {},
   "source": [
    "3. Пожалуйста, реализуйте функцию ```calc_acc(truth, preds)```, которая будет возвращать ```accuracy```, рассчитанную с использованием ```truth``` и ```preds```. Вы не можете использовать библиотеку ```sklearn``` в этой задаче."
   ]
  },
  {
   "cell_type": "code",
   "execution_count": 3,
   "metadata": {},
   "outputs": [
    {
     "name": "stdout",
     "output_type": "stream",
     "text": [
      "0.49\n"
     ]
    }
   ],
   "source": [
    "# Начало кода\n",
    "def calc_acc(truth, preds):\n",
    "    accuracy = sum(truth == preds) / truth.shape[0]\n",
    "    return accuracy\n",
    "# Конец кода\n",
    "print(calc_acc(targets,predictions))"
   ]
  },
  {
   "cell_type": "markdown",
   "metadata": {},
   "source": [
    "### Ожидаемые результаты:\n",
    "\n",
    "```python\n",
    "0.49\n",
    "```"
   ]
  },
  {
   "cell_type": "markdown",
   "metadata": {},
   "source": [
    "4. Пожалуйста, реализуйте функцию ```conf_matrix(truth, preds)```, которая будет возвращать ```confusion matrix```, рассчитанную с использованием ```truth``` и ```preds```. **Вы не можете использовать библиотеку ```sklearn``` в этой задаче.**"
   ]
  },
  {
   "cell_type": "code",
   "execution_count": 4,
   "metadata": {},
   "outputs": [
    {
     "name": "stdout",
     "output_type": "stream",
     "text": [
      "[[24. 21.]\n",
      " [30. 25.]]\n"
     ]
    }
   ],
   "source": [
    "# Начало кода\n",
    "def conf_matrix(truth, preds):\n",
    "    k = len(np.unique(truth))\n",
    "    result = np.zeros((k, k))\n",
    "        \n",
    "    for t, p in zip(truth, preds):\n",
    "        result[t][p] += 1\n",
    "    return result\n",
    "# Конец кода\n",
    "print(conf_matrix(targets,predictions))"
   ]
  },
  {
   "cell_type": "markdown",
   "metadata": {},
   "source": [
    "### Ожидаемые результаты:\n",
    "\n",
    "```python\n",
    "[[24 21]\n",
    " [30 25]]\n",
    "```"
   ]
  },
  {
   "cell_type": "markdown",
   "metadata": {},
   "source": [
    "5. Пожалуйста, реализуйте функцию ```precision_recall_fscore(truth, preds)```, которая будет возвращать ```(precision, recall, f1 score)```, рассчитанную с использованием ```truth``` и ```preds```. Вы не можете использовать библиотеку ```sklearn``` в этой задаче."
   ]
  },
  {
   "cell_type": "code",
   "execution_count": 5,
   "metadata": {},
   "outputs": [
    {
     "name": "stdout",
     "output_type": "stream",
     "text": [
      "(0.5434782608695652, 0.45454545454545453, 0.49504950495049505)\n"
     ]
    }
   ],
   "source": [
    "# Начало кода\n",
    "def precision_recall_fscore(truth, preds):\n",
    "    true_pos = sum(1 for t,p in zip(truth, preds) if t==1 and p==1)\n",
    "    true_neg = sum(1 for t,p in zip(truth, preds) if t==0 and p==0)\n",
    "    false_neg = sum(1 for t,p in zip(truth, preds) if t==1 and p==0)\n",
    "    false_pos = sum(1 for t,p in zip(truth, preds) if t==0 and p==1)\n",
    "    \n",
    "    precision = true_pos / float(true_pos + false_pos)\n",
    " \n",
    "    recall = true_pos / float(true_pos + false_neg)\n",
    "\n",
    "    f1_score = 2*precision*recall / (precision + recall)\n",
    "\n",
    "    return precision, recall, f1_score\n",
    "# Конец кода\n",
    "print(precision_recall_fscore(targets,predictions))"
   ]
  },
  {
   "cell_type": "markdown",
   "metadata": {},
   "source": [
    "### Ожидаемые результаты:\n",
    "\n",
    "```python\n",
    "(0.5434782608695652, 0.45454545454545453, 0.49504950495049505)\n",
    "```"
   ]
  },
  {
   "cell_type": "markdown",
   "metadata": {},
   "source": [
    "6. Создайте ```np.ndarray``` массив ```probs``` формы (100,) с помощью ```np.random.random()```. (Установите np.random.seed на 1)"
   ]
  },
  {
   "cell_type": "code",
   "execution_count": 6,
   "metadata": {},
   "outputs": [
    {
     "name": "stdout",
     "output_type": "stream",
     "text": [
      "[4.17022005e-01 7.20324493e-01 1.14374817e-04 3.02332573e-01\n",
      " 1.46755891e-01]\n"
     ]
    }
   ],
   "source": [
    "# Начало кода\n",
    "np.random.seed(1)\n",
    "probs = np.random.random(100,)\n",
    "# Конец кода\n",
    "print(probs[:5])"
   ]
  },
  {
   "cell_type": "markdown",
   "metadata": {},
   "source": [
    "### Ожидаемые результаты:\n",
    "\n",
    "```python\n",
    "[4.17022005e-01 7.20324493e-01 1.14374817e-04 3.02332573e-01\n",
    " 1.46755891e-01]\n",
    "```"
   ]
  },
  {
   "cell_type": "markdown",
   "metadata": {},
   "source": [
    "7. Используя библиотеку ```sklearn```, постройте кривую ROC с использованием массивов ```targets``` и ```probs```, а также рассчитайте значение ```ROC AUC```."
   ]
  },
  {
   "cell_type": "code",
   "execution_count": 7,
   "metadata": {},
   "outputs": [
    {
     "data": {
      "image/png": "[encoded data removed]",
      "text/plain": [
       "<Figure size 432x288 with 1 Axes>"
      ]
     },
     "metadata": {
      "needs_background": "light"
     },
     "output_type": "display_data"
    }
   ],
   "source": [
    "# Начало кода\n",
    "import matplotlib.pyplot as plt\n",
    "from sklearn.metrics import roc_curve, precision_recall_curve, roc_auc_score, average_precision_score, auc\n",
    "fpr, tpr, thresholds = roc_curve(targets, probs)\n",
    "plt.plot(fpr, tpr, label=f\"ROC AUC: {round(roc_auc_score(targets, probs),2)}\");\n",
    "plt.legend(loc='best');\n",
    "plt.title('ROC-curve');\n",
    "# Конец кода"
   ]
  },
  {
   "attachments": {
    "image.png": {
     "image/png": "[encoded data removed]"
    }
   },
   "cell_type": "markdown",
   "metadata": {},
   "source": [
    "### Ожидаемые результаты:\n",
    "\n",
    "![image.png](attachment:image.png)"
   ]
  },
  {
   "cell_type": "markdown",
   "metadata": {},
   "source": [
    "8. Используя библиотеку ```sklearn```, постройте кривую PR с использованием массивов ```targets``` и ```probs```, а также рассчитайте значение ```PR AUC```."
   ]
  },
  {
   "cell_type": "code",
   "execution_count": 8,
   "metadata": {},
   "outputs": [
    {
     "data": {
      "image/png": "[encoded data removed]",
      "text/plain": [
       "<Figure size 432x288 with 1 Axes>"
      ]
     },
     "metadata": {
      "needs_background": "light"
     },
     "output_type": "display_data"
    }
   ],
   "source": [
    "# Начало кода\n",
    "precision, recall, thresholds = precision_recall_curve(targets, probs)\n",
    "plt.plot(recall, precision, label=f\"PR AUC: {round(auc(recall, precision),2)}\");\n",
    "plt.legend(loc='best');\n",
    "plt.title('PR-curve');\n",
    "# Конец кода"
   ]
  },
  {
   "attachments": {
    "image.png": {
     "image/png": "[encoded data removed]"
    }
   },
   "cell_type": "markdown",
   "metadata": {},
   "source": [
    "### Ожидаемые результаты:\n",
    "\n",
    "![image.png](attachment:image.png)"
   ]
  },
  {
   "cell_type": "markdown",
   "metadata": {},
   "source": [
    "### Отличная работа"
   ]
  }
 ],
 "metadata": {
  "kernelspec": {
   "display_name": "Python 3",
   "language": "python",
   "name": "python3"
  },
  "language_info": {
   "codemirror_mode": {
    "name": "ipython",
    "version": 3
   },
   "file_extension": ".py",
   "mimetype": "text/x-python",
   "name": "python",
   "nbconvert_exporter": "python",
   "pygments_lexer": "ipython3",
   "version": "3.8.3"
  }
 },
 "nbformat": 4,
 "nbformat_minor": 2
}
